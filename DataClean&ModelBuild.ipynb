{
 "cells": [
  {
   "cell_type": "code",
   "execution_count": 1,
   "id": "e2c30d48",
   "metadata": {},
   "outputs": [],
   "source": [
    "import pandas as pd\n",
    "import os\n",
    "import matplotlib.pyplot as plt\n",
    "import seaborn as sns\n",
    "import numpy as np\n",
    "import geopandas as gpd\n",
    "from functools import reduce\n",
    "from shapely.geometry import Point\n",
    "from shapely.geometry.polygon import Polygon\n",
    "import matplotlib.patches as mpatches\n",
    "import warnings\n",
    "import random\n",
    "warnings.filterwarnings(\"ignore\")"
   ]
  },
  {
   "cell_type": "markdown",
   "id": "a576f47a",
   "metadata": {},
   "source": [
    "Below are sections **Data Cleaning**, **Dimension Reduction**, **XGBoost Regression**, **Ridge Regression**"
   ]
  },
  {
   "cell_type": "markdown",
   "id": "e0eb091e",
   "metadata": {},
   "source": [
    "## Data Cleaning"
   ]
  },
  {
   "cell_type": "code",
   "execution_count": 2,
   "id": "eae48797",
   "metadata": {},
   "outputs": [],
   "source": [
    "class Data():\n",
    "    def __init__(self, dfs):\n",
    "        self.original_dfs = dfs\n",
    "        self.dfs = dfs\n",
    "        self.cleaned = False\n",
    "        self.output = None\n",
    "        \n",
    "    def clean(self):\n",
    "        if self.cleaned:\n",
    "            return\n",
    "        for i in range(len(self.dfs)):\n",
    "            self.dfs[i] = self.dfs[i][self.dfs[i][\"availability_30\"] > 0]\n",
    "            self.dfs[i]['occupancy_rate'] =(30 - self.dfs[i]['availability_30']) / 30\n",
    "            self.dfs[i][\"price\"] = self.dfs[i][\"price\"].apply(lambda x: float(x.replace(',','')[1:]))\n",
    "\n",
    "        merged_df = reduce(lambda left,right: pd.merge(left, right[['id', 'price', 'occupancy_rate']],on='id', how = 'inner', suffixes=('_x', '_y')), self.dfs)\n",
    "        price_demand = merged_df[['id','price_x', 'price_y', 'occupancy_rate_x', 'occupancy_rate_y']]\n",
    "        price_demand.columns = ['id','price_1','price_2','price_3','price_4', 'demand_1', 'demand_2', 'demand_3', 'demand_4']\n",
    "        price_demand = price_demand.merge(df1[['id', 'reviews_per_month']], on='id', how = 'inner').dropna()\n",
    "        price_demand['demand'] = 1/4*(price_demand['demand_1'] + price_demand['demand_2'] + price_demand['demand_3'] + price_demand['demand_4'])\n",
    "        price_demand['price'] = 1/4*(price_demand['price_1'] + price_demand['price_2'] + price_demand['price_3'] + price_demand['price_4'])\n",
    "        df_21 = price_demand.drop(['price_1', \"price_2\", \"price_3\", \"price_4\", 'demand_1', \"demand_2\", \"demand_3\", \"demand_4\"], axis=1).merge(df1[[\"id\", \"neighbourhood_cleansed\", \"bedrooms\", \"beds\", \"room_type\", \"minimum_nights\", \"amenities\", \"property_type\", \"listing_url\", \"host_since\", \"review_scores_rating\", \"calculated_host_listings_count\", \"accommodates\"]], how = 'inner', on=['id'])\n",
    "        df_21 = df_21[df_21['minimum_nights'] <= 100]\n",
    "        df_21 = df_21[df_21['demand'] > 0]\n",
    "        self.output = df_21\n",
    "        self.dfs = self.original_dfs\n",
    "        \n",
    "        \n",
    "    def add(self, name, func):\n",
    "        self.output[name] = func(self.output)\n",
    "        return\n",
    "    \n",
    "    def get(self):\n",
    "        return self.output\n",
    "    \n",
    "    def original(self):\n",
    "        return self.original_dfs\n",
    "    \n",
    "    def dropna(self, columns):\n",
    "        self.output = self.output.dropna(subset=columns)\n",
    "        return"
   ]
  },
  {
   "cell_type": "code",
   "execution_count": 3,
   "id": "0977bbf8",
   "metadata": {},
   "outputs": [],
   "source": [
    "df1 = pd.read_csv('Data/listings3.csv')\n",
    "df2 = pd.read_csv('Data/listings6.csv')\n",
    "df3 = pd.read_csv('Data/listings9.csv')\n",
    "df4 = pd.read_csv('Data/listings12.csv')\n",
    "dfs = [df1, df2, df3, df4]\n"
   ]
  },
  {
   "cell_type": "code",
   "execution_count": 4,
   "id": "92f5d12d",
   "metadata": {},
   "outputs": [],
   "source": [
    "data = Data(dfs)"
   ]
  },
  {
   "cell_type": "code",
   "execution_count": 5,
   "id": "61b71dc8",
   "metadata": {},
   "outputs": [],
   "source": [
    "data.clean()\n",
    "data.add(\"price_per_person\", lambda x: x['price']/x['accommodates'])\n",
    "data.dropna(['room_type', \"price_per_person\", \"review_scores_rating\", \"accommodates\", \"room_type\"])"
   ]
  },
  {
   "cell_type": "code",
   "execution_count": 6,
   "id": "68a6d1da",
   "metadata": {},
   "outputs": [],
   "source": [
    "df = data.get()"
   ]
  },
  {
   "cell_type": "code",
   "execution_count": 7,
   "id": "fc0cb3bd",
   "metadata": {},
   "outputs": [],
   "source": [
    "df['log_demand'] = np.log((df['demand'])/(1-df['demand']))"
   ]
  },
  {
   "cell_type": "code",
   "execution_count": 8,
   "id": "70489183",
   "metadata": {
    "scrolled": true
   },
   "outputs": [
    {
     "data": {
      "text/plain": [
       "<AxesSubplot:>"
      ]
     },
     "execution_count": 8,
     "metadata": {},
     "output_type": "execute_result"
    },
    {
     "data": {
      "image/png": "[encoded data removed]",
      "text/plain": [
       "<Figure size 432x288 with 1 Axes>"
      ]
     },
     "metadata": {
      "needs_background": "light"
     },
     "output_type": "display_data"
    }
   ],
   "source": [
    "df.replace([np.inf, -np.inf], -50, inplace=True)\n",
    "df['log_demand'].hist(range=(-10,10))"
   ]
  },
  {
   "cell_type": "code",
   "execution_count": 9,
   "id": "c248117f",
   "metadata": {},
   "outputs": [],
   "source": [
    "from sklearn.linear_model import LinearRegression\n",
    "from sklearn.preprocessing import OneHotEncoder"
   ]
  },
  {
   "cell_type": "code",
   "execution_count": 10,
   "id": "9b7e033e",
   "metadata": {},
   "outputs": [],
   "source": [
    "df = data.get()"
   ]
  },
  {
   "cell_type": "code",
   "execution_count": 11,
   "id": "d8c57ec7",
   "metadata": {},
   "outputs": [],
   "source": [
    "df = df.dropna()"
   ]
  },
  {
   "cell_type": "code",
   "execution_count": 12,
   "id": "3fed1f80",
   "metadata": {},
   "outputs": [
    {
     "data": {
      "text/plain": [
       "Index(['id', 'reviews_per_month', 'demand', 'price', 'neighbourhood_cleansed',\n",
       "       'bedrooms', 'beds', 'room_type', 'minimum_nights', 'amenities',\n",
       "       'property_type', 'listing_url', 'host_since', 'review_scores_rating',\n",
       "       'calculated_host_listings_count', 'accommodates', 'price_per_person',\n",
       "       'log_demand'],\n",
       "      dtype='object')"
      ]
     },
     "execution_count": 12,
     "metadata": {},
     "output_type": "execute_result"
    }
   ],
   "source": [
    "df.columns"
   ]
  },
  {
   "cell_type": "markdown",
   "id": "bf268aa1",
   "metadata": {},
   "source": [
    "#### Zillow Housing data"
   ]
  },
  {
   "cell_type": "code",
   "execution_count": 13,
   "id": "d8a5c1b4",
   "metadata": {},
   "outputs": [],
   "source": [
    "import geopy"
   ]
  },
  {
   "cell_type": "code",
   "execution_count": 14,
   "id": "ce5a1de2",
   "metadata": {},
   "outputs": [],
   "source": [
    "neighborhood_location = df1.groupby('neighbourhood_cleansed').mean()[['longitude', 'latitude']]"
   ]
  },
  {
   "cell_type": "code",
   "execution_count": 15,
   "id": "62233745",
   "metadata": {},
   "outputs": [],
   "source": [
    "neighborhood_location = np.round(neighborhood_location[['longitude','latitude']], 5)"
   ]
  },
  {
   "cell_type": "code",
   "execution_count": 16,
   "id": "c5cca3a2",
   "metadata": {},
   "outputs": [],
   "source": [
    "def get_zipcode(df, geolocator, lat_field, lon_field):\n",
    "    location = geolocator.reverse((df[lat_field], df[lon_field]))\n",
    "    if 'postcode' in location.raw['address'].keys():\n",
    "        return location.raw['address']['postcode']\n",
    "    else:\n",
    "        return 0\n",
    "\n",
    "\n",
    "geolocator = geopy.Nominatim(user_agent='Jiayang_Nie')\n",
    "\n",
    "zipcodes = neighborhood_location.apply(get_zipcode, axis=1, geolocator=geolocator, lat_field='latitude', lon_field='longitude')"
   ]
  },
  {
   "cell_type": "code",
   "execution_count": 17,
   "id": "726230b3",
   "metadata": {},
   "outputs": [],
   "source": [
    "zipcodes['Agua Dulce'] = '91390'\n",
    "zipcodes['Angeles Crest'] = '91011'\n",
    "zipcodes['Ridge Route'] = '93225'\n",
    "zipcodes['Tujunga Canyons'] = '91042'\n",
    "zipcodes['Unincorporated Catalina Island'] = '90704'\n",
    "zipcodes['Unincorporated Santa Susana Mountains'] = '93063'\n",
    "zipcodes['Leona Valley'] = '93551'"
   ]
  },
  {
   "cell_type": "code",
   "execution_count": 18,
   "id": "c364acc0",
   "metadata": {},
   "outputs": [],
   "source": [
    "zipcodes = zipcodes.apply(lambda x: x[0:5]).astype(int)"
   ]
  },
  {
   "cell_type": "code",
   "execution_count": 19,
   "id": "9133e053",
   "metadata": {},
   "outputs": [],
   "source": [
    "zipcodes = zipcodes.to_frame().reset_index()\n",
    "zipcodes.columns = ['neighbourhood_cleansed', 'zipcode']"
   ]
  },
  {
   "cell_type": "code",
   "execution_count": 20,
   "id": "6b730af1",
   "metadata": {
    "scrolled": true
   },
   "outputs": [
    {
     "data": {
      "text/html": [
       "<div>\n",
       "<style scoped>\n",
       "    .dataframe tbody tr th:only-of-type {\n",
       "        vertical-align: middle;\n",
       "    }\n",
       "\n",
       "    .dataframe tbody tr th {\n",
       "        vertical-align: top;\n",
       "    }\n",
       "\n",
       "    .dataframe thead th {\n",
       "        text-align: right;\n",
       "    }\n",
       "</style>\n",
       "<table border=\"1\" class=\"dataframe\">\n",
       "  <thead>\n",
       "    <tr style=\"text-align: right;\">\n",
       "      <th></th>\n",
       "      <th>neighbourhood_cleansed</th>\n",
       "      <th>zipcode</th>\n",
       "    </tr>\n",
       "  </thead>\n",
       "  <tbody>\n",
       "    <tr>\n",
       "      <th>0</th>\n",
       "      <td>Acton</td>\n",
       "      <td>93510</td>\n",
       "    </tr>\n",
       "    <tr>\n",
       "      <th>1</th>\n",
       "      <td>Adams-Normandie</td>\n",
       "      <td>90007</td>\n",
       "    </tr>\n",
       "    <tr>\n",
       "      <th>2</th>\n",
       "      <td>Agoura Hills</td>\n",
       "      <td>91301</td>\n",
       "    </tr>\n",
       "    <tr>\n",
       "      <th>3</th>\n",
       "      <td>Agua Dulce</td>\n",
       "      <td>91390</td>\n",
       "    </tr>\n",
       "    <tr>\n",
       "      <th>4</th>\n",
       "      <td>Alhambra</td>\n",
       "      <td>91801</td>\n",
       "    </tr>\n",
       "    <tr>\n",
       "      <th>...</th>\n",
       "      <td>...</td>\n",
       "      <td>...</td>\n",
       "    </tr>\n",
       "    <tr>\n",
       "      <th>258</th>\n",
       "      <td>Willowbrook</td>\n",
       "      <td>90059</td>\n",
       "    </tr>\n",
       "    <tr>\n",
       "      <th>259</th>\n",
       "      <td>Wilmington</td>\n",
       "      <td>90744</td>\n",
       "    </tr>\n",
       "    <tr>\n",
       "      <th>260</th>\n",
       "      <td>Windsor Square</td>\n",
       "      <td>90004</td>\n",
       "    </tr>\n",
       "    <tr>\n",
       "      <th>261</th>\n",
       "      <td>Winnetka</td>\n",
       "      <td>91306</td>\n",
       "    </tr>\n",
       "    <tr>\n",
       "      <th>262</th>\n",
       "      <td>Woodland Hills</td>\n",
       "      <td>91364</td>\n",
       "    </tr>\n",
       "  </tbody>\n",
       "</table>\n",
       "<p>263 rows × 2 columns</p>\n",
       "</div>"
      ],
      "text/plain": [
       "    neighbourhood_cleansed  zipcode\n",
       "0                    Acton    93510\n",
       "1          Adams-Normandie    90007\n",
       "2             Agoura Hills    91301\n",
       "3               Agua Dulce    91390\n",
       "4                 Alhambra    91801\n",
       "..                     ...      ...\n",
       "258            Willowbrook    90059\n",
       "259             Wilmington    90744\n",
       "260         Windsor Square    90004\n",
       "261               Winnetka    91306\n",
       "262         Woodland Hills    91364\n",
       "\n",
       "[263 rows x 2 columns]"
      ]
     },
     "execution_count": 20,
     "metadata": {},
     "output_type": "execute_result"
    }
   ],
   "source": [
    "zipcodes"
   ]
  },
  {
   "cell_type": "code",
   "execution_count": 21,
   "id": "673079b5",
   "metadata": {},
   "outputs": [],
   "source": [
    "df = pd.merge(df, zipcodes, on = 'neighbourhood_cleansed')"
   ]
  },
  {
   "cell_type": "code",
   "execution_count": 22,
   "id": "c1e8ca5c",
   "metadata": {},
   "outputs": [],
   "source": [
    "one_bed = pd.read_csv(\"Data/zillow_1bed.csv\")\n",
    "two_bed = pd.read_csv(\"Data/zillow_2bed.csv\")\n",
    "three_bed = pd.read_csv(\"Data/zillow_3bed.csv\")\n",
    "four_bed = pd.read_csv(\"Data/zillow_4bed.csv\")\n",
    "five_bed = pd.read_csv(\"Data/zillow_5bed.csv\")"
   ]
  },
  {
   "cell_type": "code",
   "execution_count": 23,
   "id": "222f6f5d",
   "metadata": {},
   "outputs": [],
   "source": [
    "def look_for(row):\n",
    "    nbeds = row['bedrooms']\n",
    "    zipcode = row['zipcode']\n",
    "    if nbeds == 1:\n",
    "        toReturn = one_bed[one_bed['RegionID'] == zipcode]['2021-12-31']\n",
    "    elif nbeds == 2:\n",
    "        toReturn = two_bed[two_bed['RegionID'] == zipcode]['2021-12-31']\n",
    "    elif nbeds == 3:\n",
    "        toReturn = three_bed[three_bed['RegionID'] == zipcode]['2021-12-31']\n",
    "    elif nbeds == 4:\n",
    "        toReturn = four_bed[four_bed['RegionID'] == zipcode]['2021-12-31']\n",
    "    else:\n",
    "        toReturn = five_bed[five_bed['RegionID'] == zipcode]['2021-12-31']\n",
    "    while toReturn.empty:\n",
    "        zipcode += 1\n",
    "        if nbeds == 1:\n",
    "            toReturn = one_bed[one_bed['RegionID'] == zipcode]['2021-12-31']\n",
    "        elif nbeds == 2:\n",
    "            toReturn = two_bed[two_bed['RegionID'] == zipcode]['2021-12-31']\n",
    "        elif nbeds == 3:\n",
    "            toReturn = three_bed[three_bed['RegionID'] == zipcode]['2021-12-31']\n",
    "        elif nbeds == 4:\n",
    "            toReturn = four_bed[four_bed['RegionID'] == zipcode]['2021-12-31']\n",
    "        else:\n",
    "            toReturn = five_bed[five_bed['RegionID'] == zipcode]['2021-12-31']\n",
    "    return toReturn.iloc[0]\n",
    "\n",
    "a = df.apply(look_for, axis=1)\n",
    "            \n",
    "            \n",
    "            "
   ]
  },
  {
   "cell_type": "code",
   "execution_count": 24,
   "id": "9d3514e9",
   "metadata": {},
   "outputs": [],
   "source": [
    "df['housing_price'] = a"
   ]
  },
  {
   "cell_type": "markdown",
   "id": "26976963",
   "metadata": {},
   "source": [
    "## Dimension Reduction"
   ]
  },
  {
   "cell_type": "markdown",
   "id": "b3a71ea0",
   "metadata": {},
   "source": [
    "We performed dimension reduction using principal component analysis to reduce the time and storage space required. It also helps remove multi-collinearity which improves the interpretation of the parameters of the machine learning model. We one encoded the variable property type and reduced the dimensionality of the amenities column."
   ]
  },
  {
   "cell_type": "code",
   "execution_count": 25,
   "id": "d0adc7e1",
   "metadata": {},
   "outputs": [],
   "source": [
    "import tensorflow as tf\n",
    "from tensorflow.keras import layers\n",
    "from gensim.models import Word2Vec, KeyedVectors\n",
    "from spacy.lang.en import English"
   ]
  },
  {
   "cell_type": "code",
   "execution_count": 26,
   "id": "078d6e78",
   "metadata": {},
   "outputs": [],
   "source": [
    "from sklearn.decomposition import PCA\n",
    "from prince import MCA"
   ]
  },
  {
   "cell_type": "code",
   "execution_count": 27,
   "id": "27df1add",
   "metadata": {},
   "outputs": [],
   "source": [
    "enc_ohe = OneHotEncoder()\n",
    "enc_ohe.fit(df[[\"property_type\"]])\n",
    "property_types = pd.DataFrame(enc_ohe.transform(df[[\"property_type\"]]).toarray(), columns=enc_ohe.get_feature_names(['property_type']))"
   ]
  },
  {
   "cell_type": "code",
   "execution_count": 28,
   "id": "6ed1304a",
   "metadata": {},
   "outputs": [
    {
     "data": {
      "text/html": [
       "<div>\n",
       "<style scoped>\n",
       "    .dataframe tbody tr th:only-of-type {\n",
       "        vertical-align: middle;\n",
       "    }\n",
       "\n",
       "    .dataframe tbody tr th {\n",
       "        vertical-align: top;\n",
       "    }\n",
       "\n",
       "    .dataframe thead th {\n",
       "        text-align: right;\n",
       "    }\n",
       "</style>\n",
       "<table border=\"1\" class=\"dataframe\">\n",
       "  <thead>\n",
       "    <tr style=\"text-align: right;\">\n",
       "      <th></th>\n",
       "      <th>property_type_Barn</th>\n",
       "      <th>property_type_Boat</th>\n",
       "      <th>property_type_Camper/RV</th>\n",
       "      <th>property_type_Castle</th>\n",
       "      <th>property_type_Earth house</th>\n",
       "      <th>property_type_Entire apartment</th>\n",
       "      <th>property_type_Entire bungalow</th>\n",
       "      <th>property_type_Entire cabin</th>\n",
       "      <th>property_type_Entire condominium</th>\n",
       "      <th>property_type_Entire cottage</th>\n",
       "      <th>...</th>\n",
       "      <th>property_type_Shared room in guesthouse</th>\n",
       "      <th>property_type_Shared room in hostel</th>\n",
       "      <th>property_type_Shared room in house</th>\n",
       "      <th>property_type_Shared room in townhouse</th>\n",
       "      <th>property_type_Shared room in villa</th>\n",
       "      <th>property_type_Tent</th>\n",
       "      <th>property_type_Tiny house</th>\n",
       "      <th>property_type_Train</th>\n",
       "      <th>property_type_Treehouse</th>\n",
       "      <th>property_type_Yurt</th>\n",
       "    </tr>\n",
       "  </thead>\n",
       "  <tbody>\n",
       "    <tr>\n",
       "      <th>0</th>\n",
       "      <td>0.0</td>\n",
       "      <td>0.0</td>\n",
       "      <td>0.0</td>\n",
       "      <td>0.0</td>\n",
       "      <td>0.0</td>\n",
       "      <td>0.0</td>\n",
       "      <td>0.0</td>\n",
       "      <td>0.0</td>\n",
       "      <td>0.0</td>\n",
       "      <td>0.0</td>\n",
       "      <td>...</td>\n",
       "      <td>0.0</td>\n",
       "      <td>0.0</td>\n",
       "      <td>0.0</td>\n",
       "      <td>0.0</td>\n",
       "      <td>0.0</td>\n",
       "      <td>0.0</td>\n",
       "      <td>0.0</td>\n",
       "      <td>0.0</td>\n",
       "      <td>0.0</td>\n",
       "      <td>0.0</td>\n",
       "    </tr>\n",
       "    <tr>\n",
       "      <th>1</th>\n",
       "      <td>0.0</td>\n",
       "      <td>0.0</td>\n",
       "      <td>0.0</td>\n",
       "      <td>0.0</td>\n",
       "      <td>0.0</td>\n",
       "      <td>0.0</td>\n",
       "      <td>1.0</td>\n",
       "      <td>0.0</td>\n",
       "      <td>0.0</td>\n",
       "      <td>0.0</td>\n",
       "      <td>...</td>\n",
       "      <td>0.0</td>\n",
       "      <td>0.0</td>\n",
       "      <td>0.0</td>\n",
       "      <td>0.0</td>\n",
       "      <td>0.0</td>\n",
       "      <td>0.0</td>\n",
       "      <td>0.0</td>\n",
       "      <td>0.0</td>\n",
       "      <td>0.0</td>\n",
       "      <td>0.0</td>\n",
       "    </tr>\n",
       "    <tr>\n",
       "      <th>2</th>\n",
       "      <td>0.0</td>\n",
       "      <td>0.0</td>\n",
       "      <td>0.0</td>\n",
       "      <td>0.0</td>\n",
       "      <td>0.0</td>\n",
       "      <td>0.0</td>\n",
       "      <td>0.0</td>\n",
       "      <td>0.0</td>\n",
       "      <td>0.0</td>\n",
       "      <td>0.0</td>\n",
       "      <td>...</td>\n",
       "      <td>0.0</td>\n",
       "      <td>0.0</td>\n",
       "      <td>0.0</td>\n",
       "      <td>0.0</td>\n",
       "      <td>0.0</td>\n",
       "      <td>0.0</td>\n",
       "      <td>0.0</td>\n",
       "      <td>0.0</td>\n",
       "      <td>0.0</td>\n",
       "      <td>0.0</td>\n",
       "    </tr>\n",
       "    <tr>\n",
       "      <th>3</th>\n",
       "      <td>0.0</td>\n",
       "      <td>0.0</td>\n",
       "      <td>0.0</td>\n",
       "      <td>0.0</td>\n",
       "      <td>0.0</td>\n",
       "      <td>0.0</td>\n",
       "      <td>1.0</td>\n",
       "      <td>0.0</td>\n",
       "      <td>0.0</td>\n",
       "      <td>0.0</td>\n",
       "      <td>...</td>\n",
       "      <td>0.0</td>\n",
       "      <td>0.0</td>\n",
       "      <td>0.0</td>\n",
       "      <td>0.0</td>\n",
       "      <td>0.0</td>\n",
       "      <td>0.0</td>\n",
       "      <td>0.0</td>\n",
       "      <td>0.0</td>\n",
       "      <td>0.0</td>\n",
       "      <td>0.0</td>\n",
       "    </tr>\n",
       "    <tr>\n",
       "      <th>4</th>\n",
       "      <td>0.0</td>\n",
       "      <td>0.0</td>\n",
       "      <td>0.0</td>\n",
       "      <td>0.0</td>\n",
       "      <td>0.0</td>\n",
       "      <td>0.0</td>\n",
       "      <td>0.0</td>\n",
       "      <td>0.0</td>\n",
       "      <td>0.0</td>\n",
       "      <td>0.0</td>\n",
       "      <td>...</td>\n",
       "      <td>0.0</td>\n",
       "      <td>0.0</td>\n",
       "      <td>0.0</td>\n",
       "      <td>0.0</td>\n",
       "      <td>0.0</td>\n",
       "      <td>0.0</td>\n",
       "      <td>0.0</td>\n",
       "      <td>0.0</td>\n",
       "      <td>0.0</td>\n",
       "      <td>0.0</td>\n",
       "    </tr>\n",
       "    <tr>\n",
       "      <th>...</th>\n",
       "      <td>...</td>\n",
       "      <td>...</td>\n",
       "      <td>...</td>\n",
       "      <td>...</td>\n",
       "      <td>...</td>\n",
       "      <td>...</td>\n",
       "      <td>...</td>\n",
       "      <td>...</td>\n",
       "      <td>...</td>\n",
       "      <td>...</td>\n",
       "      <td>...</td>\n",
       "      <td>...</td>\n",
       "      <td>...</td>\n",
       "      <td>...</td>\n",
       "      <td>...</td>\n",
       "      <td>...</td>\n",
       "      <td>...</td>\n",
       "      <td>...</td>\n",
       "      <td>...</td>\n",
       "      <td>...</td>\n",
       "      <td>...</td>\n",
       "    </tr>\n",
       "    <tr>\n",
       "      <th>4345</th>\n",
       "      <td>0.0</td>\n",
       "      <td>0.0</td>\n",
       "      <td>0.0</td>\n",
       "      <td>0.0</td>\n",
       "      <td>0.0</td>\n",
       "      <td>0.0</td>\n",
       "      <td>0.0</td>\n",
       "      <td>0.0</td>\n",
       "      <td>0.0</td>\n",
       "      <td>0.0</td>\n",
       "      <td>...</td>\n",
       "      <td>0.0</td>\n",
       "      <td>0.0</td>\n",
       "      <td>0.0</td>\n",
       "      <td>0.0</td>\n",
       "      <td>0.0</td>\n",
       "      <td>0.0</td>\n",
       "      <td>0.0</td>\n",
       "      <td>0.0</td>\n",
       "      <td>0.0</td>\n",
       "      <td>0.0</td>\n",
       "    </tr>\n",
       "    <tr>\n",
       "      <th>4346</th>\n",
       "      <td>0.0</td>\n",
       "      <td>0.0</td>\n",
       "      <td>0.0</td>\n",
       "      <td>0.0</td>\n",
       "      <td>0.0</td>\n",
       "      <td>0.0</td>\n",
       "      <td>0.0</td>\n",
       "      <td>0.0</td>\n",
       "      <td>0.0</td>\n",
       "      <td>0.0</td>\n",
       "      <td>...</td>\n",
       "      <td>0.0</td>\n",
       "      <td>0.0</td>\n",
       "      <td>0.0</td>\n",
       "      <td>0.0</td>\n",
       "      <td>0.0</td>\n",
       "      <td>0.0</td>\n",
       "      <td>0.0</td>\n",
       "      <td>0.0</td>\n",
       "      <td>0.0</td>\n",
       "      <td>0.0</td>\n",
       "    </tr>\n",
       "    <tr>\n",
       "      <th>4347</th>\n",
       "      <td>0.0</td>\n",
       "      <td>0.0</td>\n",
       "      <td>0.0</td>\n",
       "      <td>0.0</td>\n",
       "      <td>0.0</td>\n",
       "      <td>0.0</td>\n",
       "      <td>0.0</td>\n",
       "      <td>0.0</td>\n",
       "      <td>0.0</td>\n",
       "      <td>0.0</td>\n",
       "      <td>...</td>\n",
       "      <td>0.0</td>\n",
       "      <td>0.0</td>\n",
       "      <td>0.0</td>\n",
       "      <td>0.0</td>\n",
       "      <td>0.0</td>\n",
       "      <td>0.0</td>\n",
       "      <td>0.0</td>\n",
       "      <td>0.0</td>\n",
       "      <td>0.0</td>\n",
       "      <td>0.0</td>\n",
       "    </tr>\n",
       "    <tr>\n",
       "      <th>4348</th>\n",
       "      <td>0.0</td>\n",
       "      <td>0.0</td>\n",
       "      <td>0.0</td>\n",
       "      <td>0.0</td>\n",
       "      <td>0.0</td>\n",
       "      <td>0.0</td>\n",
       "      <td>0.0</td>\n",
       "      <td>0.0</td>\n",
       "      <td>0.0</td>\n",
       "      <td>0.0</td>\n",
       "      <td>...</td>\n",
       "      <td>0.0</td>\n",
       "      <td>0.0</td>\n",
       "      <td>0.0</td>\n",
       "      <td>0.0</td>\n",
       "      <td>0.0</td>\n",
       "      <td>0.0</td>\n",
       "      <td>0.0</td>\n",
       "      <td>0.0</td>\n",
       "      <td>0.0</td>\n",
       "      <td>0.0</td>\n",
       "    </tr>\n",
       "    <tr>\n",
       "      <th>4349</th>\n",
       "      <td>0.0</td>\n",
       "      <td>0.0</td>\n",
       "      <td>0.0</td>\n",
       "      <td>0.0</td>\n",
       "      <td>0.0</td>\n",
       "      <td>0.0</td>\n",
       "      <td>0.0</td>\n",
       "      <td>0.0</td>\n",
       "      <td>0.0</td>\n",
       "      <td>0.0</td>\n",
       "      <td>...</td>\n",
       "      <td>0.0</td>\n",
       "      <td>0.0</td>\n",
       "      <td>0.0</td>\n",
       "      <td>0.0</td>\n",
       "      <td>0.0</td>\n",
       "      <td>0.0</td>\n",
       "      <td>0.0</td>\n",
       "      <td>0.0</td>\n",
       "      <td>0.0</td>\n",
       "      <td>0.0</td>\n",
       "    </tr>\n",
       "  </tbody>\n",
       "</table>\n",
       "<p>4350 rows × 65 columns</p>\n",
       "</div>"
      ],
      "text/plain": [
       "      property_type_Barn  property_type_Boat  property_type_Camper/RV  \\\n",
       "0                    0.0                 0.0                      0.0   \n",
       "1                    0.0                 0.0                      0.0   \n",
       "2                    0.0                 0.0                      0.0   \n",
       "3                    0.0                 0.0                      0.0   \n",
       "4                    0.0                 0.0                      0.0   \n",
       "...                  ...                 ...                      ...   \n",
       "4345                 0.0                 0.0                      0.0   \n",
       "4346                 0.0                 0.0                      0.0   \n",
       "4347                 0.0                 0.0                      0.0   \n",
       "4348                 0.0                 0.0                      0.0   \n",
       "4349                 0.0                 0.0                      0.0   \n",
       "\n",
       "      property_type_Castle  property_type_Earth house  \\\n",
       "0                      0.0                        0.0   \n",
       "1                      0.0                        0.0   \n",
       "2                      0.0                        0.0   \n",
       "3                      0.0                        0.0   \n",
       "4                      0.0                        0.0   \n",
       "...                    ...                        ...   \n",
       "4345                   0.0                        0.0   \n",
       "4346                   0.0                        0.0   \n",
       "4347                   0.0                        0.0   \n",
       "4348                   0.0                        0.0   \n",
       "4349                   0.0                        0.0   \n",
       "\n",
       "      property_type_Entire apartment  property_type_Entire bungalow  \\\n",
       "0                                0.0                            0.0   \n",
       "1                                0.0                            1.0   \n",
       "2                                0.0                            0.0   \n",
       "3                                0.0                            1.0   \n",
       "4                                0.0                            0.0   \n",
       "...                              ...                            ...   \n",
       "4345                             0.0                            0.0   \n",
       "4346                             0.0                            0.0   \n",
       "4347                             0.0                            0.0   \n",
       "4348                             0.0                            0.0   \n",
       "4349                             0.0                            0.0   \n",
       "\n",
       "      property_type_Entire cabin  property_type_Entire condominium  \\\n",
       "0                            0.0                               0.0   \n",
       "1                            0.0                               0.0   \n",
       "2                            0.0                               0.0   \n",
       "3                            0.0                               0.0   \n",
       "4                            0.0                               0.0   \n",
       "...                          ...                               ...   \n",
       "4345                         0.0                               0.0   \n",
       "4346                         0.0                               0.0   \n",
       "4347                         0.0                               0.0   \n",
       "4348                         0.0                               0.0   \n",
       "4349                         0.0                               0.0   \n",
       "\n",
       "      property_type_Entire cottage  ...  \\\n",
       "0                              0.0  ...   \n",
       "1                              0.0  ...   \n",
       "2                              0.0  ...   \n",
       "3                              0.0  ...   \n",
       "4                              0.0  ...   \n",
       "...                            ...  ...   \n",
       "4345                           0.0  ...   \n",
       "4346                           0.0  ...   \n",
       "4347                           0.0  ...   \n",
       "4348                           0.0  ...   \n",
       "4349                           0.0  ...   \n",
       "\n",
       "      property_type_Shared room in guesthouse  \\\n",
       "0                                         0.0   \n",
       "1                                         0.0   \n",
       "2                                         0.0   \n",
       "3                                         0.0   \n",
       "4                                         0.0   \n",
       "...                                       ...   \n",
       "4345                                      0.0   \n",
       "4346                                      0.0   \n",
       "4347                                      0.0   \n",
       "4348                                      0.0   \n",
       "4349                                      0.0   \n",
       "\n",
       "      property_type_Shared room in hostel  property_type_Shared room in house  \\\n",
       "0                                     0.0                                 0.0   \n",
       "1                                     0.0                                 0.0   \n",
       "2                                     0.0                                 0.0   \n",
       "3                                     0.0                                 0.0   \n",
       "4                                     0.0                                 0.0   \n",
       "...                                   ...                                 ...   \n",
       "4345                                  0.0                                 0.0   \n",
       "4346                                  0.0                                 0.0   \n",
       "4347                                  0.0                                 0.0   \n",
       "4348                                  0.0                                 0.0   \n",
       "4349                                  0.0                                 0.0   \n",
       "\n",
       "      property_type_Shared room in townhouse  \\\n",
       "0                                        0.0   \n",
       "1                                        0.0   \n",
       "2                                        0.0   \n",
       "3                                        0.0   \n",
       "4                                        0.0   \n",
       "...                                      ...   \n",
       "4345                                     0.0   \n",
       "4346                                     0.0   \n",
       "4347                                     0.0   \n",
       "4348                                     0.0   \n",
       "4349                                     0.0   \n",
       "\n",
       "      property_type_Shared room in villa  property_type_Tent  \\\n",
       "0                                    0.0                 0.0   \n",
       "1                                    0.0                 0.0   \n",
       "2                                    0.0                 0.0   \n",
       "3                                    0.0                 0.0   \n",
       "4                                    0.0                 0.0   \n",
       "...                                  ...                 ...   \n",
       "4345                                 0.0                 0.0   \n",
       "4346                                 0.0                 0.0   \n",
       "4347                                 0.0                 0.0   \n",
       "4348                                 0.0                 0.0   \n",
       "4349                                 0.0                 0.0   \n",
       "\n",
       "      property_type_Tiny house  property_type_Train  property_type_Treehouse  \\\n",
       "0                          0.0                  0.0                      0.0   \n",
       "1                          0.0                  0.0                      0.0   \n",
       "2                          0.0                  0.0                      0.0   \n",
       "3                          0.0                  0.0                      0.0   \n",
       "4                          0.0                  0.0                      0.0   \n",
       "...                        ...                  ...                      ...   \n",
       "4345                       0.0                  0.0                      0.0   \n",
       "4346                       0.0                  0.0                      0.0   \n",
       "4347                       0.0                  0.0                      0.0   \n",
       "4348                       0.0                  0.0                      0.0   \n",
       "4349                       0.0                  0.0                      0.0   \n",
       "\n",
       "      property_type_Yurt  \n",
       "0                    0.0  \n",
       "1                    0.0  \n",
       "2                    0.0  \n",
       "3                    0.0  \n",
       "4                    0.0  \n",
       "...                  ...  \n",
       "4345                 0.0  \n",
       "4346                 0.0  \n",
       "4347                 0.0  \n",
       "4348                 0.0  \n",
       "4349                 0.0  \n",
       "\n",
       "[4350 rows x 65 columns]"
      ]
     },
     "execution_count": 28,
     "metadata": {},
     "output_type": "execute_result"
    }
   ],
   "source": [
    "property_types"
   ]
  },
  {
   "cell_type": "code",
   "execution_count": 29,
   "id": "76112988",
   "metadata": {},
   "outputs": [
    {
     "data": {
      "text/html": [
       "<div>\n",
       "<style scoped>\n",
       "    .dataframe tbody tr th:only-of-type {\n",
       "        vertical-align: middle;\n",
       "    }\n",
       "\n",
       "    .dataframe tbody tr th {\n",
       "        vertical-align: top;\n",
       "    }\n",
       "\n",
       "    .dataframe thead th {\n",
       "        text-align: right;\n",
       "    }\n",
       "</style>\n",
       "<table border=\"1\" class=\"dataframe\">\n",
       "  <thead>\n",
       "    <tr style=\"text-align: right;\">\n",
       "      <th></th>\n",
       "      <th>0</th>\n",
       "      <th>1</th>\n",
       "      <th>2</th>\n",
       "      <th>3</th>\n",
       "      <th>4</th>\n",
       "      <th>5</th>\n",
       "      <th>6</th>\n",
       "      <th>7</th>\n",
       "      <th>8</th>\n",
       "      <th>9</th>\n",
       "    </tr>\n",
       "  </thead>\n",
       "  <tbody>\n",
       "    <tr>\n",
       "      <th>0</th>\n",
       "      <td>-0.290535</td>\n",
       "      <td>1.248899</td>\n",
       "      <td>0.375204</td>\n",
       "      <td>0.410369</td>\n",
       "      <td>-0.260504</td>\n",
       "      <td>-0.439425</td>\n",
       "      <td>0.125002</td>\n",
       "      <td>-0.454747</td>\n",
       "      <td>0.095764</td>\n",
       "      <td>0.491575</td>\n",
       "    </tr>\n",
       "    <tr>\n",
       "      <th>1</th>\n",
       "      <td>-1.374753</td>\n",
       "      <td>0.420110</td>\n",
       "      <td>-1.392814</td>\n",
       "      <td>0.208893</td>\n",
       "      <td>-0.857608</td>\n",
       "      <td>0.423394</td>\n",
       "      <td>0.424964</td>\n",
       "      <td>-0.933427</td>\n",
       "      <td>-0.231283</td>\n",
       "      <td>-0.323049</td>\n",
       "    </tr>\n",
       "    <tr>\n",
       "      <th>2</th>\n",
       "      <td>0.008975</td>\n",
       "      <td>0.223149</td>\n",
       "      <td>0.152499</td>\n",
       "      <td>-0.098690</td>\n",
       "      <td>-0.493820</td>\n",
       "      <td>0.076540</td>\n",
       "      <td>-0.193167</td>\n",
       "      <td>0.232183</td>\n",
       "      <td>-0.054293</td>\n",
       "      <td>0.039948</td>\n",
       "    </tr>\n",
       "    <tr>\n",
       "      <th>3</th>\n",
       "      <td>-1.374753</td>\n",
       "      <td>0.420110</td>\n",
       "      <td>-1.392814</td>\n",
       "      <td>0.208893</td>\n",
       "      <td>-0.857608</td>\n",
       "      <td>0.423394</td>\n",
       "      <td>0.424964</td>\n",
       "      <td>-0.933427</td>\n",
       "      <td>-0.231283</td>\n",
       "      <td>-0.323049</td>\n",
       "    </tr>\n",
       "    <tr>\n",
       "      <th>4</th>\n",
       "      <td>-0.336741</td>\n",
       "      <td>0.188656</td>\n",
       "      <td>0.049187</td>\n",
       "      <td>-0.227963</td>\n",
       "      <td>0.067116</td>\n",
       "      <td>-0.367054</td>\n",
       "      <td>-0.197501</td>\n",
       "      <td>0.083895</td>\n",
       "      <td>0.212545</td>\n",
       "      <td>-0.323280</td>\n",
       "    </tr>\n",
       "  </tbody>\n",
       "</table>\n",
       "</div>"
      ],
      "text/plain": [
       "          0         1         2         3         4         5         6  \\\n",
       "0 -0.290535  1.248899  0.375204  0.410369 -0.260504 -0.439425  0.125002   \n",
       "1 -1.374753  0.420110 -1.392814  0.208893 -0.857608  0.423394  0.424964   \n",
       "2  0.008975  0.223149  0.152499 -0.098690 -0.493820  0.076540 -0.193167   \n",
       "3 -1.374753  0.420110 -1.392814  0.208893 -0.857608  0.423394  0.424964   \n",
       "4 -0.336741  0.188656  0.049187 -0.227963  0.067116 -0.367054 -0.197501   \n",
       "\n",
       "          7         8         9  \n",
       "0 -0.454747  0.095764  0.491575  \n",
       "1 -0.933427 -0.231283 -0.323049  \n",
       "2  0.232183 -0.054293  0.039948  \n",
       "3 -0.933427 -0.231283 -0.323049  \n",
       "4  0.083895  0.212545 -0.323280  "
      ]
     },
     "execution_count": 29,
     "metadata": {},
     "output_type": "execute_result"
    }
   ],
   "source": [
    "mca_property = MCA(n_components = 10, n_iter = 100, random_state = 101)\n",
    "mca_property.fit(property_types)\n",
    "property_mca = mca_property.transform(property_types)\n",
    "property_mca.head()"
   ]
  },
  {
   "cell_type": "code",
   "execution_count": 30,
   "id": "149890c6",
   "metadata": {},
   "outputs": [],
   "source": [
    "property_mca.columns = [\"property_\"+str(i) for i in range(10)]"
   ]
  },
  {
   "cell_type": "code",
   "execution_count": 31,
   "id": "aa3253a9",
   "metadata": {},
   "outputs": [],
   "source": [
    "df = pd.concat([df.reset_index(drop=True), property_mca], axis=1).drop(\"property_type\", axis=1)"
   ]
  },
  {
   "cell_type": "code",
   "execution_count": 32,
   "id": "fd5943a8",
   "metadata": {},
   "outputs": [],
   "source": [
    "amen = {}\n",
    "stop_words = set([' ', '!', '\"', '$', '%', '&', \"'s\", '(', ')', '*', '+', ',','-','--','-rain','.','/','0','1','10','100','1000','100\\\\','12','125\\\\','14','140','15\\\\','180','184','196','2','200','25','26','260','3','300','30\\\\','32\\\\','33\\\\','360','365','4','400','40\\\\','42\\\\','43\\\\','44\\\\','45','45\\\\','46\\\\','48\\\\','5','50','500','50\\\\','54\\\\','55\\\\','58\\\\','6','60\\\\','65\\\\','70','72\\\\','75','75\\\\','8',':',';','\\\\u2013','\\\\u2013\\\\u00a0','\\\\u2019n', 'a'])\n",
    "nlp = English()\n",
    "for amenity in df['amenities']:\n",
    "    \n",
    "    amenity = amenity[2:-2].split('\", \"')\n",
    "    for a in amenity:\n",
    "        a = a.lower()\n",
    "        tokens = nlp(a)\n",
    "        for token in tokens:\n",
    "            token = str(token)\n",
    "            if token in stop_words:\n",
    "                continue\n",
    "            elif token not in amen:\n",
    "                amen[token] = 1\n",
    "            else:\n",
    "                amen[token] += 1\n"
   ]
  },
  {
   "cell_type": "code",
   "execution_count": 33,
   "id": "ddd3f6cd",
   "metadata": {},
   "outputs": [],
   "source": [
    "threshold = np.quantile(list(amen.values()), 0.75)\n",
    "amens = []\n",
    "for key in amen.keys():\n",
    "    if amen[key] >= threshold:\n",
    "        amens.append(key)"
   ]
  },
  {
   "cell_type": "code",
   "execution_count": 34,
   "id": "229f3191",
   "metadata": {},
   "outputs": [
    {
     "data": {
      "text/plain": [
       "['stove',\n",
       " 'cooking',\n",
       " 'basics',\n",
       " 'bathtub',\n",
       " 'kitchen',\n",
       " 'hangers',\n",
       " 'essentials',\n",
       " 'iron',\n",
       " 'oven',\n",
       " 'heating',\n",
       " 'hair',\n",
       " 'dryer',\n",
       " 'long',\n",
       " 'term',\n",
       " 'stays',\n",
       " 'allowed',\n",
       " 'hot',\n",
       " 'water',\n",
       " 'lock',\n",
       " 'on',\n",
       " 'bedroom',\n",
       " 'door',\n",
       " 'dedicated',\n",
       " 'workspace',\n",
       " 'smoke',\n",
       " 'alarm',\n",
       " 'refrigerator',\n",
       " 'shampoo',\n",
       " 'host',\n",
       " 'greets',\n",
       " 'you',\n",
       " 'dishes',\n",
       " 'and',\n",
       " 'silverware',\n",
       " 'carbon',\n",
       " 'monoxide',\n",
       " 'wifi',\n",
       " 'free',\n",
       " 'street',\n",
       " 'parking',\n",
       " 'first',\n",
       " 'aid',\n",
       " 'kit',\n",
       " 'garden',\n",
       " 'or',\n",
       " 'backyard',\n",
       " 'patio',\n",
       " 'balcony',\n",
       " 'washer',\n",
       " 'in',\n",
       " 'tv',\n",
       " 'coffee',\n",
       " 'maker',\n",
       " 'fire',\n",
       " 'extinguisher',\n",
       " 'bed',\n",
       " 'linens',\n",
       " 'luggage',\n",
       " 'dropoff',\n",
       " 'extra',\n",
       " 'pillows',\n",
       " 'blankets',\n",
       " 'paid',\n",
       " 'premises',\n",
       " 'bbq',\n",
       " 'grill',\n",
       " 'microwave',\n",
       " 'beach',\n",
       " 'cable',\n",
       " 'single',\n",
       " 'level',\n",
       " 'home',\n",
       " 'private',\n",
       " 'entrance',\n",
       " 'cleaning',\n",
       " 'before',\n",
       " 'checkout',\n",
       " 'keypad',\n",
       " 'air',\n",
       " 'conditioning',\n",
       " 'indoor',\n",
       " 'fireplace',\n",
       " 'pack',\n",
       " 'play',\n",
       " 'travel',\n",
       " 'crib',\n",
       " 'children\\\\u2019s',\n",
       " 'books',\n",
       " 'toys',\n",
       " 'high',\n",
       " 'chair',\n",
       " 'dishwasher',\n",
       " 'ethernet',\n",
       " 'connection',\n",
       " 'room',\n",
       " 'darkening',\n",
       " 'shades',\n",
       " 'gym',\n",
       " 'guards',\n",
       " 'lockbox',\n",
       " 'tub',\n",
       " 'shower',\n",
       " 'gel',\n",
       " 'barbecue',\n",
       " 'utensils',\n",
       " 'dining',\n",
       " 'table',\n",
       " 'outdoor',\n",
       " 'portable',\n",
       " 'fans',\n",
       " 'freezer',\n",
       " 'baking',\n",
       " 'sheet',\n",
       " 'clothing',\n",
       " 'conditioner',\n",
       " 'pool',\n",
       " 'elevator',\n",
       " 'breakfast',\n",
       " 'body',\n",
       " 'soap',\n",
       " 'smart',\n",
       " 'ceiling',\n",
       " 'fan']"
      ]
     },
     "execution_count": 34,
     "metadata": {},
     "output_type": "execute_result"
    }
   ],
   "source": [
    "amens"
   ]
  },
  {
   "cell_type": "code",
   "execution_count": 35,
   "id": "2473ed29",
   "metadata": {},
   "outputs": [],
   "source": [
    "amenities = np.zeros((df.shape[0], len(amens)))\n",
    "for i in range(len(df['amenities'])):\n",
    "    for j in range(len(amens)):\n",
    "        if amens[j] in df['amenities'][i].lower():\n",
    "            amenities[i][j] = 1"
   ]
  },
  {
   "cell_type": "code",
   "execution_count": 36,
   "id": "04d8a8ac",
   "metadata": {},
   "outputs": [],
   "source": [
    "amenities = pd.DataFrame(amenities)"
   ]
  },
  {
   "cell_type": "code",
   "execution_count": 37,
   "id": "274dd644",
   "metadata": {
    "scrolled": true
   },
   "outputs": [
    {
     "data": {
      "text/html": [
       "<div>\n",
       "<style scoped>\n",
       "    .dataframe tbody tr th:only-of-type {\n",
       "        vertical-align: middle;\n",
       "    }\n",
       "\n",
       "    .dataframe tbody tr th {\n",
       "        vertical-align: top;\n",
       "    }\n",
       "\n",
       "    .dataframe thead th {\n",
       "        text-align: right;\n",
       "    }\n",
       "</style>\n",
       "<table border=\"1\" class=\"dataframe\">\n",
       "  <thead>\n",
       "    <tr style=\"text-align: right;\">\n",
       "      <th></th>\n",
       "      <th>0</th>\n",
       "      <th>1</th>\n",
       "      <th>2</th>\n",
       "      <th>3</th>\n",
       "      <th>4</th>\n",
       "      <th>5</th>\n",
       "      <th>6</th>\n",
       "      <th>7</th>\n",
       "      <th>8</th>\n",
       "      <th>9</th>\n",
       "      <th>10</th>\n",
       "      <th>11</th>\n",
       "      <th>12</th>\n",
       "      <th>13</th>\n",
       "      <th>14</th>\n",
       "      <th>15</th>\n",
       "      <th>16</th>\n",
       "      <th>17</th>\n",
       "      <th>18</th>\n",
       "      <th>19</th>\n",
       "    </tr>\n",
       "  </thead>\n",
       "  <tbody>\n",
       "    <tr>\n",
       "      <th>0</th>\n",
       "      <td>-0.370939</td>\n",
       "      <td>-0.031194</td>\n",
       "      <td>0.131290</td>\n",
       "      <td>0.486422</td>\n",
       "      <td>0.168785</td>\n",
       "      <td>-0.182657</td>\n",
       "      <td>-0.243678</td>\n",
       "      <td>-0.141406</td>\n",
       "      <td>-0.003097</td>\n",
       "      <td>-0.209760</td>\n",
       "      <td>0.080214</td>\n",
       "      <td>0.117218</td>\n",
       "      <td>-0.022090</td>\n",
       "      <td>-0.197276</td>\n",
       "      <td>0.161139</td>\n",
       "      <td>0.030988</td>\n",
       "      <td>0.014653</td>\n",
       "      <td>-0.105163</td>\n",
       "      <td>-0.127009</td>\n",
       "      <td>-0.069637</td>\n",
       "    </tr>\n",
       "    <tr>\n",
       "      <th>1</th>\n",
       "      <td>-0.305792</td>\n",
       "      <td>-0.168682</td>\n",
       "      <td>-0.172469</td>\n",
       "      <td>0.458294</td>\n",
       "      <td>-0.036251</td>\n",
       "      <td>-0.311695</td>\n",
       "      <td>-0.234055</td>\n",
       "      <td>0.158255</td>\n",
       "      <td>-0.074214</td>\n",
       "      <td>-0.150494</td>\n",
       "      <td>0.088534</td>\n",
       "      <td>0.226660</td>\n",
       "      <td>0.049344</td>\n",
       "      <td>-0.104863</td>\n",
       "      <td>-0.032984</td>\n",
       "      <td>-0.012418</td>\n",
       "      <td>-0.052195</td>\n",
       "      <td>0.007554</td>\n",
       "      <td>0.090452</td>\n",
       "      <td>-0.129868</td>\n",
       "    </tr>\n",
       "    <tr>\n",
       "      <th>2</th>\n",
       "      <td>-0.424324</td>\n",
       "      <td>0.179825</td>\n",
       "      <td>0.407742</td>\n",
       "      <td>-0.182556</td>\n",
       "      <td>0.356497</td>\n",
       "      <td>0.169733</td>\n",
       "      <td>-0.313004</td>\n",
       "      <td>-0.118155</td>\n",
       "      <td>0.092319</td>\n",
       "      <td>-0.205103</td>\n",
       "      <td>0.138905</td>\n",
       "      <td>0.202242</td>\n",
       "      <td>0.280056</td>\n",
       "      <td>0.115129</td>\n",
       "      <td>-0.350704</td>\n",
       "      <td>0.192681</td>\n",
       "      <td>0.188240</td>\n",
       "      <td>0.110365</td>\n",
       "      <td>0.130408</td>\n",
       "      <td>0.078422</td>\n",
       "    </tr>\n",
       "    <tr>\n",
       "      <th>3</th>\n",
       "      <td>-0.006995</td>\n",
       "      <td>-0.126599</td>\n",
       "      <td>-0.320308</td>\n",
       "      <td>0.005773</td>\n",
       "      <td>-0.036203</td>\n",
       "      <td>0.000057</td>\n",
       "      <td>0.095331</td>\n",
       "      <td>-0.156269</td>\n",
       "      <td>-0.137340</td>\n",
       "      <td>-0.063090</td>\n",
       "      <td>-0.013979</td>\n",
       "      <td>-0.074006</td>\n",
       "      <td>0.225954</td>\n",
       "      <td>0.093110</td>\n",
       "      <td>-0.017522</td>\n",
       "      <td>-0.354896</td>\n",
       "      <td>-0.092516</td>\n",
       "      <td>0.173308</td>\n",
       "      <td>-0.127325</td>\n",
       "      <td>-0.065524</td>\n",
       "    </tr>\n",
       "    <tr>\n",
       "      <th>4</th>\n",
       "      <td>0.151567</td>\n",
       "      <td>-0.155192</td>\n",
       "      <td>-0.124486</td>\n",
       "      <td>0.046168</td>\n",
       "      <td>0.641510</td>\n",
       "      <td>0.137467</td>\n",
       "      <td>0.536231</td>\n",
       "      <td>0.132706</td>\n",
       "      <td>0.155277</td>\n",
       "      <td>0.098564</td>\n",
       "      <td>-0.036247</td>\n",
       "      <td>0.058902</td>\n",
       "      <td>0.138810</td>\n",
       "      <td>-0.059429</td>\n",
       "      <td>0.068377</td>\n",
       "      <td>0.027453</td>\n",
       "      <td>-0.006056</td>\n",
       "      <td>0.079366</td>\n",
       "      <td>-0.120933</td>\n",
       "      <td>-0.029844</td>\n",
       "    </tr>\n",
       "  </tbody>\n",
       "</table>\n",
       "</div>"
      ],
      "text/plain": [
       "         0         1         2         3         4         5         6   \\\n",
       "0 -0.370939 -0.031194  0.131290  0.486422  0.168785 -0.182657 -0.243678   \n",
       "1 -0.305792 -0.168682 -0.172469  0.458294 -0.036251 -0.311695 -0.234055   \n",
       "2 -0.424324  0.179825  0.407742 -0.182556  0.356497  0.169733 -0.313004   \n",
       "3 -0.006995 -0.126599 -0.320308  0.005773 -0.036203  0.000057  0.095331   \n",
       "4  0.151567 -0.155192 -0.124486  0.046168  0.641510  0.137467  0.536231   \n",
       "\n",
       "         7         8         9         10        11        12        13  \\\n",
       "0 -0.141406 -0.003097 -0.209760  0.080214  0.117218 -0.022090 -0.197276   \n",
       "1  0.158255 -0.074214 -0.150494  0.088534  0.226660  0.049344 -0.104863   \n",
       "2 -0.118155  0.092319 -0.205103  0.138905  0.202242  0.280056  0.115129   \n",
       "3 -0.156269 -0.137340 -0.063090 -0.013979 -0.074006  0.225954  0.093110   \n",
       "4  0.132706  0.155277  0.098564 -0.036247  0.058902  0.138810 -0.059429   \n",
       "\n",
       "         14        15        16        17        18        19  \n",
       "0  0.161139  0.030988  0.014653 -0.105163 -0.127009 -0.069637  \n",
       "1 -0.032984 -0.012418 -0.052195  0.007554  0.090452 -0.129868  \n",
       "2 -0.350704  0.192681  0.188240  0.110365  0.130408  0.078422  \n",
       "3 -0.017522 -0.354896 -0.092516  0.173308 -0.127325 -0.065524  \n",
       "4  0.068377  0.027453 -0.006056  0.079366 -0.120933 -0.029844  "
      ]
     },
     "execution_count": 37,
     "metadata": {},
     "output_type": "execute_result"
    }
   ],
   "source": [
    "mca_amenities = MCA(n_components = 20, n_iter = 100, random_state = 101)\n",
    "mca_amenities.fit(amenities)\n",
    "amenities_mca = mca_amenities.transform(amenities)\n",
    "amenities_mca.head()"
   ]
  },
  {
   "cell_type": "code",
   "execution_count": 38,
   "id": "33a9aee7",
   "metadata": {},
   "outputs": [],
   "source": [
    "amenities_mca.columns = [\"amenity_\"+str(i) for i in range(amenities_mca.shape[1])]"
   ]
  },
  {
   "cell_type": "code",
   "execution_count": 39,
   "id": "87c09204",
   "metadata": {},
   "outputs": [],
   "source": [
    "df = pd.concat([df.reset_index(drop=True), amenities_mca], axis=1).drop(\"amenities\", axis=1)"
   ]
  },
  {
   "cell_type": "code",
   "execution_count": 40,
   "id": "17152783",
   "metadata": {},
   "outputs": [],
   "source": [
    "df = df.dropna()"
   ]
  },
  {
   "cell_type": "code",
   "execution_count": 41,
   "id": "cd6f085b",
   "metadata": {},
   "outputs": [
    {
     "data": {
      "image/png": "[encoded data removed]",
      "text/plain": [
       "<Figure size 1080x1080 with 2 Axes>"
      ]
     },
     "metadata": {
      "needs_background": "light"
     },
     "output_type": "display_data"
    }
   ],
   "source": [
    "matrix = df.iloc[:,1:20].corr(method = 'pearson')\n",
    "plt.figure(figsize=(15,15))\n",
    "sns.heatmap(matrix, annot=True)\n",
    "plt.show()"
   ]
  },
  {
   "cell_type": "markdown",
   "id": "e83c0be6",
   "metadata": {},
   "source": [
    "We see that Demand does not have a high correlation with other independent variables that we are using to build the model to predict demand therefore we can move on to building models to use all the variables to predict demand."
   ]
  },
  {
   "cell_type": "markdown",
   "id": "febf8a8e",
   "metadata": {},
   "source": [
    "## XGBoost Regression"
   ]
  },
  {
   "cell_type": "code",
   "execution_count": 42,
   "id": "ca70284f",
   "metadata": {},
   "outputs": [],
   "source": [
    "# conda install py-xgboost\n",
    "import xgboost as xgb\n",
    "from random import uniform\n",
    "from random import randint\n",
    "from sklearn.model_selection import GridSearchCV\n",
    "from sklearn.model_selection import train_test_split"
   ]
  },
  {
   "cell_type": "code",
   "execution_count": 43,
   "id": "c343aeeb",
   "metadata": {},
   "outputs": [
    {
     "data": {
      "text/plain": [
       "Index(['id', 'reviews_per_month', 'demand', 'price', 'neighbourhood_cleansed',\n",
       "       'bedrooms', 'beds', 'room_type', 'minimum_nights', 'listing_url',\n",
       "       'host_since', 'review_scores_rating', 'calculated_host_listings_count',\n",
       "       'accommodates', 'price_per_person', 'log_demand', 'zipcode',\n",
       "       'housing_price', 'property_0', 'property_1', 'property_2', 'property_3',\n",
       "       'property_4', 'property_5', 'property_6', 'property_7', 'property_8',\n",
       "       'property_9', 'amenity_0', 'amenity_1', 'amenity_2', 'amenity_3',\n",
       "       'amenity_4', 'amenity_5', 'amenity_6', 'amenity_7', 'amenity_8',\n",
       "       'amenity_9', 'amenity_10', 'amenity_11', 'amenity_12', 'amenity_13',\n",
       "       'amenity_14', 'amenity_15', 'amenity_16', 'amenity_17', 'amenity_18',\n",
       "       'amenity_19'],\n",
       "      dtype='object')"
      ]
     },
     "execution_count": 43,
     "metadata": {},
     "output_type": "execute_result"
    }
   ],
   "source": [
    "df.columns"
   ]
  },
  {
   "cell_type": "code",
   "execution_count": 44,
   "id": "947efed4",
   "metadata": {},
   "outputs": [],
   "source": [
    "df = df[df['demand'] > 0]"
   ]
  },
  {
   "cell_type": "code",
   "execution_count": 45,
   "id": "9187b9fc",
   "metadata": {},
   "outputs": [],
   "source": [
    "model_df = df.drop([\"id\", \"listing_url\", \"price\", \"neighbourhood_cleansed\", \"log_demand\", \"demand\", \"zipcode\", \"host_since\"], axis=1)\n",
    "\n",
    "X_train, X_test, y_train, y_test = train_test_split(model_df, df['demand'], test_size=0.1, random_state=42)"
   ]
  },
  {
   "cell_type": "code",
   "execution_count": 46,
   "id": "d305ff0a",
   "metadata": {},
   "outputs": [],
   "source": [
    "# model_df.to_csv(\"cleaned_data.csv\")"
   ]
  },
  {
   "cell_type": "code",
   "execution_count": 47,
   "id": "46ff73fe",
   "metadata": {},
   "outputs": [],
   "source": [
    "cat_cols = X_train.columns[X_train.dtypes == 'object']\n",
    "num_cols = X_train.columns[(X_train.dtypes == 'float64') | (X_train.dtypes == 'int64')]"
   ]
  },
  {
   "cell_type": "code",
   "execution_count": 48,
   "id": "7c4da1c3",
   "metadata": {},
   "outputs": [],
   "source": [
    "enc_ohe = OneHotEncoder()\n",
    "enc_ohe.fit(X_train[cat_cols])\n",
    "def OneHotEncoding(df, enc, categories):  \n",
    "    transformed = pd.DataFrame(enc.transform(df[categories]).toarray(), columns=enc.get_feature_names(categories))\n",
    "    return pd.concat([df.reset_index(drop=True), transformed], axis=1).drop(categories, axis=1)\n",
    "X_train = OneHotEncoding(X_train, enc_ohe, cat_cols)\n",
    "X_test = OneHotEncoding(X_test, enc_ohe, cat_cols)"
   ]
  },
  {
   "cell_type": "code",
   "execution_count": 49,
   "id": "e1b7d8a2",
   "metadata": {},
   "outputs": [
    {
     "data": {
      "text/html": [
       "<div>\n",
       "<style scoped>\n",
       "    .dataframe tbody tr th:only-of-type {\n",
       "        vertical-align: middle;\n",
       "    }\n",
       "\n",
       "    .dataframe tbody tr th {\n",
       "        vertical-align: top;\n",
       "    }\n",
       "\n",
       "    .dataframe thead th {\n",
       "        text-align: right;\n",
       "    }\n",
       "</style>\n",
       "<table border=\"1\" class=\"dataframe\">\n",
       "  <thead>\n",
       "    <tr style=\"text-align: right;\">\n",
       "      <th></th>\n",
       "      <th>reviews_per_month</th>\n",
       "      <th>bedrooms</th>\n",
       "      <th>beds</th>\n",
       "      <th>minimum_nights</th>\n",
       "      <th>review_scores_rating</th>\n",
       "      <th>calculated_host_listings_count</th>\n",
       "      <th>accommodates</th>\n",
       "      <th>price_per_person</th>\n",
       "      <th>housing_price</th>\n",
       "      <th>property_0</th>\n",
       "      <th>...</th>\n",
       "      <th>amenity_14</th>\n",
       "      <th>amenity_15</th>\n",
       "      <th>amenity_16</th>\n",
       "      <th>amenity_17</th>\n",
       "      <th>amenity_18</th>\n",
       "      <th>amenity_19</th>\n",
       "      <th>room_type_Entire home/apt</th>\n",
       "      <th>room_type_Hotel room</th>\n",
       "      <th>room_type_Private room</th>\n",
       "      <th>room_type_Shared room</th>\n",
       "    </tr>\n",
       "  </thead>\n",
       "  <tbody>\n",
       "    <tr>\n",
       "      <th>0</th>\n",
       "      <td>6.34</td>\n",
       "      <td>1.0</td>\n",
       "      <td>1.0</td>\n",
       "      <td>1</td>\n",
       "      <td>100.0</td>\n",
       "      <td>1</td>\n",
       "      <td>2</td>\n",
       "      <td>50.750000</td>\n",
       "      <td>42001.0</td>\n",
       "      <td>-0.290535</td>\n",
       "      <td>...</td>\n",
       "      <td>-0.069205</td>\n",
       "      <td>-0.051025</td>\n",
       "      <td>0.284090</td>\n",
       "      <td>-0.139299</td>\n",
       "      <td>-0.025393</td>\n",
       "      <td>0.056822</td>\n",
       "      <td>0.0</td>\n",
       "      <td>0.0</td>\n",
       "      <td>1.0</td>\n",
       "      <td>0.0</td>\n",
       "    </tr>\n",
       "    <tr>\n",
       "      <th>1</th>\n",
       "      <td>1.43</td>\n",
       "      <td>1.0</td>\n",
       "      <td>1.0</td>\n",
       "      <td>2</td>\n",
       "      <td>91.0</td>\n",
       "      <td>7</td>\n",
       "      <td>2</td>\n",
       "      <td>17.750000</td>\n",
       "      <td>65817.0</td>\n",
       "      <td>-0.336741</td>\n",
       "      <td>...</td>\n",
       "      <td>0.035759</td>\n",
       "      <td>-0.168579</td>\n",
       "      <td>0.028979</td>\n",
       "      <td>-0.085430</td>\n",
       "      <td>0.145633</td>\n",
       "      <td>-0.150851</td>\n",
       "      <td>0.0</td>\n",
       "      <td>0.0</td>\n",
       "      <td>1.0</td>\n",
       "      <td>0.0</td>\n",
       "    </tr>\n",
       "    <tr>\n",
       "      <th>2</th>\n",
       "      <td>0.24</td>\n",
       "      <td>3.0</td>\n",
       "      <td>3.0</td>\n",
       "      <td>29</td>\n",
       "      <td>86.0</td>\n",
       "      <td>8</td>\n",
       "      <td>8</td>\n",
       "      <td>21.250000</td>\n",
       "      <td>218516.0</td>\n",
       "      <td>1.407742</td>\n",
       "      <td>...</td>\n",
       "      <td>0.260605</td>\n",
       "      <td>0.302044</td>\n",
       "      <td>-0.256651</td>\n",
       "      <td>-0.046598</td>\n",
       "      <td>-0.180593</td>\n",
       "      <td>0.029684</td>\n",
       "      <td>1.0</td>\n",
       "      <td>0.0</td>\n",
       "      <td>0.0</td>\n",
       "      <td>0.0</td>\n",
       "    </tr>\n",
       "    <tr>\n",
       "      <th>3</th>\n",
       "      <td>1.70</td>\n",
       "      <td>1.0</td>\n",
       "      <td>1.0</td>\n",
       "      <td>5</td>\n",
       "      <td>91.0</td>\n",
       "      <td>1</td>\n",
       "      <td>2</td>\n",
       "      <td>26.875000</td>\n",
       "      <td>82599.0</td>\n",
       "      <td>0.992363</td>\n",
       "      <td>...</td>\n",
       "      <td>0.154492</td>\n",
       "      <td>-0.166164</td>\n",
       "      <td>0.216836</td>\n",
       "      <td>-0.023030</td>\n",
       "      <td>0.028158</td>\n",
       "      <td>-0.217092</td>\n",
       "      <td>0.0</td>\n",
       "      <td>0.0</td>\n",
       "      <td>1.0</td>\n",
       "      <td>0.0</td>\n",
       "    </tr>\n",
       "    <tr>\n",
       "      <th>4</th>\n",
       "      <td>1.28</td>\n",
       "      <td>1.0</td>\n",
       "      <td>1.0</td>\n",
       "      <td>30</td>\n",
       "      <td>96.0</td>\n",
       "      <td>1</td>\n",
       "      <td>1</td>\n",
       "      <td>53.750000</td>\n",
       "      <td>24708.0</td>\n",
       "      <td>-0.336741</td>\n",
       "      <td>...</td>\n",
       "      <td>-0.131405</td>\n",
       "      <td>-0.080430</td>\n",
       "      <td>0.027267</td>\n",
       "      <td>-0.083142</td>\n",
       "      <td>0.018889</td>\n",
       "      <td>0.011682</td>\n",
       "      <td>0.0</td>\n",
       "      <td>0.0</td>\n",
       "      <td>1.0</td>\n",
       "      <td>0.0</td>\n",
       "    </tr>\n",
       "    <tr>\n",
       "      <th>...</th>\n",
       "      <td>...</td>\n",
       "      <td>...</td>\n",
       "      <td>...</td>\n",
       "      <td>...</td>\n",
       "      <td>...</td>\n",
       "      <td>...</td>\n",
       "      <td>...</td>\n",
       "      <td>...</td>\n",
       "      <td>...</td>\n",
       "      <td>...</td>\n",
       "      <td>...</td>\n",
       "      <td>...</td>\n",
       "      <td>...</td>\n",
       "      <td>...</td>\n",
       "      <td>...</td>\n",
       "      <td>...</td>\n",
       "      <td>...</td>\n",
       "      <td>...</td>\n",
       "      <td>...</td>\n",
       "      <td>...</td>\n",
       "      <td>...</td>\n",
       "    </tr>\n",
       "    <tr>\n",
       "      <th>3909</th>\n",
       "      <td>4.78</td>\n",
       "      <td>1.0</td>\n",
       "      <td>1.0</td>\n",
       "      <td>2</td>\n",
       "      <td>96.0</td>\n",
       "      <td>2</td>\n",
       "      <td>3</td>\n",
       "      <td>48.416667</td>\n",
       "      <td>79283.0</td>\n",
       "      <td>0.221260</td>\n",
       "      <td>...</td>\n",
       "      <td>0.078226</td>\n",
       "      <td>-0.013848</td>\n",
       "      <td>-0.163939</td>\n",
       "      <td>0.004386</td>\n",
       "      <td>0.044443</td>\n",
       "      <td>0.073366</td>\n",
       "      <td>1.0</td>\n",
       "      <td>0.0</td>\n",
       "      <td>0.0</td>\n",
       "      <td>0.0</td>\n",
       "    </tr>\n",
       "    <tr>\n",
       "      <th>3910</th>\n",
       "      <td>0.03</td>\n",
       "      <td>1.0</td>\n",
       "      <td>1.0</td>\n",
       "      <td>30</td>\n",
       "      <td>80.0</td>\n",
       "      <td>1</td>\n",
       "      <td>2</td>\n",
       "      <td>60.000000</td>\n",
       "      <td>63570.0</td>\n",
       "      <td>1.278649</td>\n",
       "      <td>...</td>\n",
       "      <td>-0.331161</td>\n",
       "      <td>0.104192</td>\n",
       "      <td>-0.107778</td>\n",
       "      <td>0.055833</td>\n",
       "      <td>0.253992</td>\n",
       "      <td>0.170858</td>\n",
       "      <td>0.0</td>\n",
       "      <td>0.0</td>\n",
       "      <td>1.0</td>\n",
       "      <td>0.0</td>\n",
       "    </tr>\n",
       "    <tr>\n",
       "      <th>3911</th>\n",
       "      <td>0.37</td>\n",
       "      <td>1.0</td>\n",
       "      <td>1.0</td>\n",
       "      <td>7</td>\n",
       "      <td>70.0</td>\n",
       "      <td>10</td>\n",
       "      <td>2</td>\n",
       "      <td>35.250000</td>\n",
       "      <td>169810.0</td>\n",
       "      <td>0.992363</td>\n",
       "      <td>...</td>\n",
       "      <td>0.156886</td>\n",
       "      <td>0.100485</td>\n",
       "      <td>-0.241726</td>\n",
       "      <td>0.128317</td>\n",
       "      <td>0.036290</td>\n",
       "      <td>-0.104492</td>\n",
       "      <td>0.0</td>\n",
       "      <td>0.0</td>\n",
       "      <td>1.0</td>\n",
       "      <td>0.0</td>\n",
       "    </tr>\n",
       "    <tr>\n",
       "      <th>3912</th>\n",
       "      <td>1.17</td>\n",
       "      <td>1.0</td>\n",
       "      <td>0.0</td>\n",
       "      <td>2</td>\n",
       "      <td>73.0</td>\n",
       "      <td>12</td>\n",
       "      <td>1</td>\n",
       "      <td>37.000000</td>\n",
       "      <td>106634.0</td>\n",
       "      <td>-0.290535</td>\n",
       "      <td>...</td>\n",
       "      <td>0.202294</td>\n",
       "      <td>0.089140</td>\n",
       "      <td>0.208122</td>\n",
       "      <td>-0.022923</td>\n",
       "      <td>-0.322502</td>\n",
       "      <td>-0.003909</td>\n",
       "      <td>0.0</td>\n",
       "      <td>0.0</td>\n",
       "      <td>1.0</td>\n",
       "      <td>0.0</td>\n",
       "    </tr>\n",
       "    <tr>\n",
       "      <th>3913</th>\n",
       "      <td>3.41</td>\n",
       "      <td>1.0</td>\n",
       "      <td>1.0</td>\n",
       "      <td>1</td>\n",
       "      <td>97.0</td>\n",
       "      <td>2</td>\n",
       "      <td>3</td>\n",
       "      <td>60.750000</td>\n",
       "      <td>179654.0</td>\n",
       "      <td>0.003877</td>\n",
       "      <td>...</td>\n",
       "      <td>-0.038275</td>\n",
       "      <td>-0.043605</td>\n",
       "      <td>-0.012945</td>\n",
       "      <td>-0.128812</td>\n",
       "      <td>0.116827</td>\n",
       "      <td>0.197283</td>\n",
       "      <td>1.0</td>\n",
       "      <td>0.0</td>\n",
       "      <td>0.0</td>\n",
       "      <td>0.0</td>\n",
       "    </tr>\n",
       "  </tbody>\n",
       "</table>\n",
       "<p>3914 rows × 43 columns</p>\n",
       "</div>"
      ],
      "text/plain": [
       "      reviews_per_month  bedrooms  beds  minimum_nights  review_scores_rating  \\\n",
       "0                  6.34       1.0   1.0               1                 100.0   \n",
       "1                  1.43       1.0   1.0               2                  91.0   \n",
       "2                  0.24       3.0   3.0              29                  86.0   \n",
       "3                  1.70       1.0   1.0               5                  91.0   \n",
       "4                  1.28       1.0   1.0              30                  96.0   \n",
       "...                 ...       ...   ...             ...                   ...   \n",
       "3909               4.78       1.0   1.0               2                  96.0   \n",
       "3910               0.03       1.0   1.0              30                  80.0   \n",
       "3911               0.37       1.0   1.0               7                  70.0   \n",
       "3912               1.17       1.0   0.0               2                  73.0   \n",
       "3913               3.41       1.0   1.0               1                  97.0   \n",
       "\n",
       "      calculated_host_listings_count  accommodates  price_per_person  \\\n",
       "0                                  1             2         50.750000   \n",
       "1                                  7             2         17.750000   \n",
       "2                                  8             8         21.250000   \n",
       "3                                  1             2         26.875000   \n",
       "4                                  1             1         53.750000   \n",
       "...                              ...           ...               ...   \n",
       "3909                               2             3         48.416667   \n",
       "3910                               1             2         60.000000   \n",
       "3911                              10             2         35.250000   \n",
       "3912                              12             1         37.000000   \n",
       "3913                               2             3         60.750000   \n",
       "\n",
       "      housing_price  property_0  ...  amenity_14  amenity_15  amenity_16  \\\n",
       "0           42001.0   -0.290535  ...   -0.069205   -0.051025    0.284090   \n",
       "1           65817.0   -0.336741  ...    0.035759   -0.168579    0.028979   \n",
       "2          218516.0    1.407742  ...    0.260605    0.302044   -0.256651   \n",
       "3           82599.0    0.992363  ...    0.154492   -0.166164    0.216836   \n",
       "4           24708.0   -0.336741  ...   -0.131405   -0.080430    0.027267   \n",
       "...             ...         ...  ...         ...         ...         ...   \n",
       "3909        79283.0    0.221260  ...    0.078226   -0.013848   -0.163939   \n",
       "3910        63570.0    1.278649  ...   -0.331161    0.104192   -0.107778   \n",
       "3911       169810.0    0.992363  ...    0.156886    0.100485   -0.241726   \n",
       "3912       106634.0   -0.290535  ...    0.202294    0.089140    0.208122   \n",
       "3913       179654.0    0.003877  ...   -0.038275   -0.043605   -0.012945   \n",
       "\n",
       "      amenity_17  amenity_18  amenity_19  room_type_Entire home/apt  \\\n",
       "0      -0.139299   -0.025393    0.056822                        0.0   \n",
       "1      -0.085430    0.145633   -0.150851                        0.0   \n",
       "2      -0.046598   -0.180593    0.029684                        1.0   \n",
       "3      -0.023030    0.028158   -0.217092                        0.0   \n",
       "4      -0.083142    0.018889    0.011682                        0.0   \n",
       "...          ...         ...         ...                        ...   \n",
       "3909    0.004386    0.044443    0.073366                        1.0   \n",
       "3910    0.055833    0.253992    0.170858                        0.0   \n",
       "3911    0.128317    0.036290   -0.104492                        0.0   \n",
       "3912   -0.022923   -0.322502   -0.003909                        0.0   \n",
       "3913   -0.128812    0.116827    0.197283                        1.0   \n",
       "\n",
       "      room_type_Hotel room  room_type_Private room  room_type_Shared room  \n",
       "0                      0.0                     1.0                    0.0  \n",
       "1                      0.0                     1.0                    0.0  \n",
       "2                      0.0                     0.0                    0.0  \n",
       "3                      0.0                     1.0                    0.0  \n",
       "4                      0.0                     1.0                    0.0  \n",
       "...                    ...                     ...                    ...  \n",
       "3909                   0.0                     0.0                    0.0  \n",
       "3910                   0.0                     1.0                    0.0  \n",
       "3911                   0.0                     1.0                    0.0  \n",
       "3912                   0.0                     1.0                    0.0  \n",
       "3913                   0.0                     0.0                    0.0  \n",
       "\n",
       "[3914 rows x 43 columns]"
      ]
     },
     "execution_count": 49,
     "metadata": {},
     "output_type": "execute_result"
    }
   ],
   "source": [
    "X_train"
   ]
  },
  {
   "cell_type": "code",
   "execution_count": 50,
   "id": "c4dcf195",
   "metadata": {},
   "outputs": [],
   "source": [
    "params = {'learning_rate': np.arange(0.001, 0.1, (0.1-0.001)/5), # default 0.1 \n",
    "          'max_depth': np.arange(2, 6, 1), # default 3\n",
    "          'n_estimators': np.arange(100, 250, 50)}\n",
    "xgb_model = xgb.XGBRegressor(random_state=42)"
   ]
  },
  {
   "cell_type": "code",
   "execution_count": 51,
   "id": "9e7a76c1",
   "metadata": {},
   "outputs": [],
   "source": [
    "xgb_search = GridSearchCV(xgb_model, params, cv=5)"
   ]
  },
  {
   "cell_type": "code",
   "execution_count": 52,
   "id": "aa8f2566",
   "metadata": {},
   "outputs": [
    {
     "name": "stdout",
     "output_type": "stream",
     "text": [
      "CPU times: user 15min 21s, sys: 9.82 s, total: 15min 31s\n",
      "Wall time: 5min 4s\n"
     ]
    },
    {
     "data": {
      "text/plain": [
       "GridSearchCV(cv=5,\n",
       "             estimator=XGBRegressor(base_score=None, booster=None,\n",
       "                                    colsample_bylevel=None,\n",
       "                                    colsample_bynode=None,\n",
       "                                    colsample_bytree=None,\n",
       "                                    enable_categorical=False, gamma=None,\n",
       "                                    gpu_id=None, importance_type=None,\n",
       "                                    interaction_constraints=None,\n",
       "                                    learning_rate=None, max_delta_step=None,\n",
       "                                    max_depth=None, min_child_weight=None,\n",
       "                                    missing=nan, monotone_constraints=None,\n",
       "                                    n_estimators=100, n_jobs=None,\n",
       "                                    num_parallel_tree=None, predictor=None,\n",
       "                                    random_state=42, reg_alpha=None,\n",
       "                                    reg_lambda=None, scale_pos_weight=None,\n",
       "                                    subsample=None, tree_method=None,\n",
       "                                    validate_parameters=None, verbosity=None),\n",
       "             param_grid={'learning_rate': array([0.001 , 0.0208, 0.0406, 0.0604, 0.0802]),\n",
       "                         'max_depth': array([2, 3, 4, 5]),\n",
       "                         'n_estimators': array([100, 150, 200])})"
      ]
     },
     "execution_count": 52,
     "metadata": {},
     "output_type": "execute_result"
    }
   ],
   "source": [
    "%time xgb_search.fit(X_train, y_train, verbose = 1)"
   ]
  },
  {
   "cell_type": "code",
   "execution_count": 53,
   "id": "46dd24f8",
   "metadata": {
    "scrolled": true
   },
   "outputs": [
    {
     "data": {
      "text/plain": [
       "{'learning_rate': 0.040600000000000004, 'max_depth': 5, 'n_estimators': 200}"
      ]
     },
     "execution_count": 53,
     "metadata": {},
     "output_type": "execute_result"
    }
   ],
   "source": [
    "xgb_search.best_params_"
   ]
  },
  {
   "cell_type": "code",
   "execution_count": 54,
   "id": "86815284",
   "metadata": {},
   "outputs": [],
   "source": [
    "fi_dict = dict()\n",
    "for x, y in zip(xgb_search.best_estimator_.get_booster().feature_names, xgb_search.best_estimator_.feature_importances_):\n",
    "    fi_dict[x] = y"
   ]
  },
  {
   "cell_type": "code",
   "execution_count": 55,
   "id": "42c35e4e",
   "metadata": {},
   "outputs": [],
   "source": [
    "fi_list = [[x, y] for x, y in zip(xgb_search.best_estimator_.get_booster().feature_names, xgb_search.best_estimator_.feature_importances_)]"
   ]
  },
  {
   "cell_type": "code",
   "execution_count": 56,
   "id": "fcd7e40c",
   "metadata": {},
   "outputs": [],
   "source": [
    "fi_list.sort(key = lambda x: -x[1])"
   ]
  },
  {
   "cell_type": "code",
   "execution_count": 57,
   "id": "f3c60527",
   "metadata": {},
   "outputs": [
    {
     "data": {
      "text/plain": [
       "[['room_type_Entire home/apt', 0.18335262],\n",
       " ['reviews_per_month', 0.098629825],\n",
       " ['minimum_nights', 0.06959043],\n",
       " ['calculated_host_listings_count', 0.037744895],\n",
       " ['property_2', 0.03447316],\n",
       " ['review_scores_rating', 0.028745055],\n",
       " ['price_per_person', 0.026709817],\n",
       " ['amenity_0', 0.023896959],\n",
       " ['amenity_1', 0.023382472],\n",
       " ['property_9', 0.021260388],\n",
       " ['property_5', 0.019821914],\n",
       " ['property_1', 0.0192547],\n",
       " ['property_6', 0.018509384],\n",
       " ['room_type_Hotel room', 0.017536595],\n",
       " ['amenity_9', 0.017356057],\n",
       " ['room_type_Private room', 0.0171431],\n",
       " ['amenity_6', 0.01698206],\n",
       " ['amenity_10', 0.016458223],\n",
       " ['amenity_3', 0.015534099],\n",
       " ['property_0', 0.015289482]]"
      ]
     },
     "execution_count": 57,
     "metadata": {},
     "output_type": "execute_result"
    }
   ],
   "source": [
    "fi_list[:20]"
   ]
  },
  {
   "cell_type": "markdown",
   "id": "3541668b",
   "metadata": {},
   "source": [
    "## Model Evaluation"
   ]
  },
  {
   "cell_type": "code",
   "execution_count": 58,
   "id": "751c7c63",
   "metadata": {},
   "outputs": [],
   "source": [
    "import shap\n",
    "from sklearn.model_selection import cross_validate"
   ]
  },
  {
   "cell_type": "code",
   "execution_count": 59,
   "id": "e0dc8ec5",
   "metadata": {},
   "outputs": [],
   "source": [
    "model = xgb_search.best_estimator_.fit(X_train, y_train)"
   ]
  },
  {
   "cell_type": "code",
   "execution_count": 60,
   "id": "c356710a",
   "metadata": {
    "scrolled": true
   },
   "outputs": [
    {
     "data": {
      "image/png": "[encoded data removed]",
      "text/plain": [
       "<Figure size 576x468 with 3 Axes>"
      ]
     },
     "metadata": {},
     "output_type": "display_data"
    }
   ],
   "source": [
    "explainer = shap.Explainer(model)\n",
    "shap_values = explainer(X_train)\n",
    "\n",
    "# visualize the first prediction's explanation\n",
    "shap.plots.waterfall(shap_values[0])"
   ]
  },
  {
   "cell_type": "markdown",
   "id": "a3e9e360",
   "metadata": {},
   "source": [
    "#### Mean Squared Error for XGBoost"
   ]
  },
  {
   "cell_type": "code",
   "execution_count": 61,
   "id": "475e8efc",
   "metadata": {},
   "outputs": [
    {
     "name": "stdout",
     "output_type": "stream",
     "text": [
      "Error for XGBoost is:  0.03666768540028545\n"
     ]
    }
   ],
   "source": [
    "print('Error for XGBoost is: ', np.mean((xgb_search.best_estimator_.predict(X_test)-y_test)**2))"
   ]
  },
  {
   "cell_type": "markdown",
   "id": "28833e3b",
   "metadata": {},
   "source": [
    "### CV permute feature importance"
   ]
  },
  {
   "cell_type": "code",
   "execution_count": 62,
   "id": "3701c87e",
   "metadata": {},
   "outputs": [],
   "source": [
    "feature_importance = {}\n",
    "for columns in X_train.columns:\n",
    "    old_column = X_train[columns].copy()\n",
    "    X_train[columns] = np.random.permutation(X_train[columns])\n",
    "    model = xgb_search.best_estimator_\n",
    "    cv_results = cross_validate(model, X_train, y_train, cv=5)\n",
    "    feature_importance[columns] = np.mean(cv_results['test_score'])\n",
    "    X_train[columns] = old_column\n",
    "    "
   ]
  },
  {
   "cell_type": "code",
   "execution_count": 63,
   "id": "a184481e",
   "metadata": {
    "scrolled": true
   },
   "outputs": [
    {
     "data": {
      "text/plain": [
       "{'reviews_per_month': 0.4097085527123741,\n",
       " 'bedrooms': 0.4360915998050636,\n",
       " 'beds': 0.43683234081189176,\n",
       " 'minimum_nights': 0.3845514000202171,\n",
       " 'review_scores_rating': 0.42831588705001067,\n",
       " 'calculated_host_listings_count': 0.41889315507409774,\n",
       " 'accommodates': 0.4341130644684383,\n",
       " 'price_per_person': 0.4025492057787633,\n",
       " 'housing_price': 0.4341429717627988,\n",
       " 'property_0': 0.437792723202563,\n",
       " 'property_1': 0.4378443430730969,\n",
       " 'property_2': 0.4384851953719469,\n",
       " 'property_3': 0.4378417553200517,\n",
       " 'property_4': 0.43377528772960466,\n",
       " 'property_5': 0.43761338565446417,\n",
       " 'property_6': 0.43603847774358134,\n",
       " 'property_7': 0.43895620053953327,\n",
       " 'property_8': 0.4369240218621191,\n",
       " 'property_9': 0.4381916756014605,\n",
       " 'amenity_0': 0.43587681570204406,\n",
       " 'amenity_1': 0.43398658390518163,\n",
       " 'amenity_2': 0.43307529847242954,\n",
       " 'amenity_3': 0.43359926896787593,\n",
       " 'amenity_4': 0.4366246300266671,\n",
       " 'amenity_5': 0.4364783094382741,\n",
       " 'amenity_6': 0.4378521274157562,\n",
       " 'amenity_7': 0.4349605715602719,\n",
       " 'amenity_8': 0.43515147204612326,\n",
       " 'amenity_9': 0.4348400424699291,\n",
       " 'amenity_10': 0.4352043390625576,\n",
       " 'amenity_11': 0.43788007286215835,\n",
       " 'amenity_12': 0.43674159324400297,\n",
       " 'amenity_13': 0.43772153338522307,\n",
       " 'amenity_14': 0.4370624410683253,\n",
       " 'amenity_15': 0.4351626121137814,\n",
       " 'amenity_16': 0.4374794011788201,\n",
       " 'amenity_17': 0.4379004036996735,\n",
       " 'amenity_18': 0.4381581775549079,\n",
       " 'amenity_19': 0.43652409419108834,\n",
       " 'room_type_Entire home/apt': 0.43167819518332917,\n",
       " 'room_type_Hotel room': 0.43911231527028693,\n",
       " 'room_type_Private room': 0.4393160689218977,\n",
       " 'room_type_Shared room': 0.43747232650568646}"
      ]
     },
     "execution_count": 63,
     "metadata": {},
     "output_type": "execute_result"
    }
   ],
   "source": [
    "feature_importance # The bigger the better"
   ]
  },
  {
   "cell_type": "markdown",
   "id": "16dc969b",
   "metadata": {},
   "source": [
    "### StandardScaler"
   ]
  },
  {
   "cell_type": "code",
   "execution_count": 64,
   "id": "33f5fa36",
   "metadata": {},
   "outputs": [],
   "source": [
    "from sklearn import preprocessing\n",
    "scaler = preprocessing.StandardScaler().fit(X_train.iloc[:,:-4])"
   ]
  },
  {
   "cell_type": "code",
   "execution_count": 65,
   "id": "870c6bd3",
   "metadata": {},
   "outputs": [],
   "source": [
    "transformed = pd.DataFrame(scaler.transform(X_train.iloc[:,:-4]), columns=X_train.columns[:-4])\n",
    "X_train = pd.concat([transformed, X_train.iloc[:,-4:]], axis=1)"
   ]
  },
  {
   "cell_type": "code",
   "execution_count": 66,
   "id": "e8955bf8",
   "metadata": {},
   "outputs": [],
   "source": [
    "transformed = pd.DataFrame(scaler.transform(X_test.iloc[:,:-4]), columns=X_test.columns[:-4])\n",
    "X_test = pd.concat([transformed, X_test.iloc[:,-4:]], axis=1)"
   ]
  },
  {
   "cell_type": "markdown",
   "id": "787bf779",
   "metadata": {},
   "source": [
    "## Ridge Regression"
   ]
  },
  {
   "cell_type": "code",
   "execution_count": 133,
   "id": "191a2cd1",
   "metadata": {},
   "outputs": [],
   "source": [
    "from sklearn.linear_model import Ridge\n",
    "from sklearn.metrics import classification_report\n"
   ]
  },
  {
   "cell_type": "code",
   "execution_count": 68,
   "id": "8fda38dd",
   "metadata": {},
   "outputs": [],
   "source": [
    "ridge = Ridge()"
   ]
  },
  {
   "cell_type": "code",
   "execution_count": 69,
   "id": "fc62390a",
   "metadata": {},
   "outputs": [],
   "source": [
    "params = {'alpha': np.arange(0.1, 2, 0.5)}"
   ]
  },
  {
   "cell_type": "code",
   "execution_count": 70,
   "id": "a8826bd1",
   "metadata": {},
   "outputs": [],
   "source": [
    "ridge_search = GridSearchCV(ridge, params, cv=5)"
   ]
  },
  {
   "cell_type": "code",
   "execution_count": 71,
   "id": "6d0d78f3",
   "metadata": {},
   "outputs": [
    {
     "data": {
      "text/plain": [
       "GridSearchCV(cv=5, estimator=Ridge(),\n",
       "             param_grid={'alpha': array([0.1, 0.6, 1.1, 1.6])})"
      ]
     },
     "execution_count": 71,
     "metadata": {},
     "output_type": "execute_result"
    }
   ],
   "source": [
    "ridge_search.fit(X_train, y_train)"
   ]
  },
  {
   "cell_type": "code",
   "execution_count": 72,
   "id": "8144d596",
   "metadata": {},
   "outputs": [],
   "source": [
    "ft = [[x,y] for x, y in zip(list(X_train.columns),ridge_search.best_estimator_.coef_)]"
   ]
  },
  {
   "cell_type": "code",
   "execution_count": 73,
   "id": "793dfe80",
   "metadata": {},
   "outputs": [],
   "source": [
    "ft.sort(key = lambda x: -np.abs(x[1]))"
   ]
  },
  {
   "cell_type": "code",
   "execution_count": 74,
   "id": "4759a5fe",
   "metadata": {},
   "outputs": [
    {
     "data": {
      "text/plain": [
       "[['room_type_Entire home/apt', 0.15142253295788655],\n",
       " ['room_type_Hotel room', -0.13382638842459538],\n",
       " ['minimum_nights', -0.06025420955029661],\n",
       " ['reviews_per_month', 0.04447020202917307],\n",
       " ['price_per_person', -0.037516407488838846],\n",
       " ['accommodates', -0.03175450877932462],\n",
       " ['review_scores_rating', 0.02989609252401511],\n",
       " ['amenity_6', -0.024433636595906232],\n",
       " ['room_type_Shared room', -0.021325956414696545],\n",
       " ['amenity_0', 0.02045626832158512],\n",
       " ['amenity_9', -0.018121375834557203],\n",
       " ['amenity_3', -0.015022629468831695],\n",
       " ['beds', 0.013582116166490235],\n",
       " ['property_1', 0.013330494588330702],\n",
       " ['amenity_2', -0.01252474662841929],\n",
       " ['amenity_19', 0.012403702600055052],\n",
       " ['amenity_11', 0.012235620364144884],\n",
       " ['property_9', -0.00855946848263961],\n",
       " ['amenity_8', -0.007939327634001708],\n",
       " ['amenity_15', -0.007155147136877754],\n",
       " ['property_4', -0.007060177934034913],\n",
       " ['amenity_12', 0.006995253406905268],\n",
       " ['property_8', 0.0062882520748551675],\n",
       " ['property_5', 0.005280861871677963],\n",
       " ['amenity_16', -0.004126883359426107],\n",
       " ['property_2', -0.003909151074123499],\n",
       " ['bedrooms', 0.003817093766892506],\n",
       " ['room_type_Private room', 0.0037298118813589715],\n",
       " ['amenity_1', 0.003259556083091457],\n",
       " ['amenity_17', 0.0024868858983994996],\n",
       " ['amenity_7', 0.0024509986767960673],\n",
       " ['property_0', -0.0023641192446074385],\n",
       " ['amenity_14', 0.0023502156783841684],\n",
       " ['housing_price', -0.0017176031591390885],\n",
       " ['amenity_10', -0.0016604544813323995],\n",
       " ['property_6', 0.0014657576643892216],\n",
       " ['property_7', -0.0014451080794752164],\n",
       " ['amenity_13', 0.0012868764705391573],\n",
       " ['amenity_4', -0.0012532752581186615],\n",
       " ['calculated_host_listings_count', -0.0007407054614064375],\n",
       " ['amenity_5', -0.0007080985987719548],\n",
       " ['amenity_18', 0.000250334512630001],\n",
       " ['property_3', -0.00023963457291442086]]"
      ]
     },
     "execution_count": 74,
     "metadata": {},
     "output_type": "execute_result"
    }
   ],
   "source": [
    "ft"
   ]
  },
  {
   "cell_type": "markdown",
   "id": "babdc760",
   "metadata": {},
   "source": [
    "#### Mean Squared Error for Ridge Regression"
   ]
  },
  {
   "cell_type": "code",
   "execution_count": 75,
   "id": "befc3a04",
   "metadata": {},
   "outputs": [
    {
     "name": "stdout",
     "output_type": "stream",
     "text": [
      "Error for Ridge Regressor is:  0.04357804588075323\n"
     ]
    }
   ],
   "source": [
    "print('Error for Ridge Regressor is: ', np.mean((ridge_search.best_estimator_.predict(X_test)-y_test)**2))"
   ]
  },
  {
   "cell_type": "code",
   "execution_count": 76,
   "id": "5b81b27b",
   "metadata": {},
   "outputs": [
    {
     "name": "stdout",
     "output_type": "stream",
     "text": [
      "Error for just guessing the mean is:  0.06736333362692852\n"
     ]
    }
   ],
   "source": [
    "print('Error for just guessing the mean is: ', np.var(y_test))"
   ]
  },
  {
   "cell_type": "markdown",
   "id": "97b524c6",
   "metadata": {},
   "source": [
    "## Random Forest Regressor"
   ]
  },
  {
   "cell_type": "code",
   "execution_count": 103,
   "id": "da2af0f0",
   "metadata": {},
   "outputs": [],
   "source": [
    "from sklearn.ensemble import RandomForestRegressor\n",
    "from sklearn.metrics import mean_squared_error\n"
   ]
  },
  {
   "cell_type": "code",
   "execution_count": 94,
   "id": "b67a1bf0",
   "metadata": {},
   "outputs": [
    {
     "name": "stdout",
     "output_type": "stream",
     "text": [
      "{'max_features': 'auto', 'n_estimators': 68}\n"
     ]
    }
   ],
   "source": [
    "rfc = RandomForestRegressor(n_jobs=-1,max_features= 'sqrt' ,n_estimators=50, oob_score = True) \n",
    "\n",
    "param_grid = { \n",
    "    'n_estimators': np.arange(1, 100, 1),\n",
    "    'max_features': ['auto', 'sqrt', 'log2']\n",
    "}\n",
    "CV_rfc = GridSearchCV(estimator=rfc, param_grid=param_grid, cv= 5)\n",
    "CV_rfc.fit(X_train, y_train)\n",
    "print(CV_rfc.best_params_)\n"
   ]
  },
  {
   "cell_type": "code",
   "execution_count": 139,
   "id": "7f51db3e",
   "metadata": {},
   "outputs": [
    {
     "data": {
      "text/plain": [
       "RandomForestRegressor(n_estimators=68)"
      ]
     },
     "execution_count": 139,
     "metadata": {},
     "output_type": "execute_result"
    }
   ],
   "source": [
    "# X_train, X_test, y_train, y_test = train_test_split(model_df, df.demand, test_size=0.1, random_state=42)\n",
    "regressor = RandomForestRegressor(max_features = 'auto', n_estimators = 68)\n",
    "regressor.fit(X_train, y_train) \n"
   ]
  },
  {
   "cell_type": "code",
   "execution_count": 140,
   "id": "0bd4d189",
   "metadata": {},
   "outputs": [
    {
     "data": {
      "text/plain": [
       "array([2.32415945e-01, 2.57524904e-03, 6.47434094e-03, 5.62655883e-02,\n",
       "       2.36564843e-02, 4.59326243e-02, 8.13521952e-03, 5.60320954e-02,\n",
       "       2.26694091e-02, 4.91423741e-03, 5.87101287e-03, 4.71506856e-03,\n",
       "       4.21592618e-03, 4.01686165e-03, 6.84411833e-03, 4.94273047e-03,\n",
       "       3.89230235e-03, 4.98102077e-03, 2.89858487e-03, 2.63328126e-02,\n",
       "       2.47888101e-02, 1.86977161e-02, 2.34305182e-02, 2.13068152e-02,\n",
       "       1.85356373e-02, 2.49030190e-02, 2.04526466e-02, 2.03977076e-02,\n",
       "       2.38127334e-02, 1.87921322e-02, 1.97233903e-02, 2.11349017e-02,\n",
       "       2.09609265e-02, 1.92270662e-02, 2.25560872e-02, 2.03400487e-02,\n",
       "       2.15468278e-02, 1.95198289e-02, 2.48427155e-02, 6.63057141e-02,\n",
       "       7.29774470e-04, 1.71267641e-04, 4.20837525e-05])"
      ]
     },
     "execution_count": 140,
     "metadata": {},
     "output_type": "execute_result"
    }
   ],
   "source": [
    "Y_pred = regressor.predict(X_test)  \n",
    "regressor.feature_importances_\n"
   ]
  },
  {
   "cell_type": "code",
   "execution_count": 141,
   "id": "fae78e71",
   "metadata": {},
   "outputs": [
    {
     "data": {
      "text/plain": [
       "<AxesSubplot:xlabel='demand', ylabel='Density'>"
      ]
     },
     "execution_count": 141,
     "metadata": {},
     "output_type": "execute_result"
    },
    {
     "data": {
      "image/png": "[encoded data removed]",
      "text/plain": [
       "<Figure size 432x288 with 1 Axes>"
      ]
     },
     "metadata": {
      "needs_background": "light"
     },
     "output_type": "display_data"
    }
   ],
   "source": [
    "sns.distplot(y_test-Y_pred)"
   ]
  },
  {
   "cell_type": "markdown",
   "id": "44960faf",
   "metadata": {},
   "source": [
    "#### Mean Squared Error for Random Forest"
   ]
  },
  {
   "cell_type": "code",
   "execution_count": 142,
   "id": "fb7b7d3d",
   "metadata": {},
   "outputs": [
    {
     "name": "stdout",
     "output_type": "stream",
     "text": [
      "Error for Random Forest is : 0.03791190839785317\n"
     ]
    }
   ],
   "source": [
    "print('Error for Random Forest is :' , mean_squared_error(y_test, Y_pred))"
   ]
  },
  {
   "cell_type": "code",
   "execution_count": 161,
   "id": "1f790091",
   "metadata": {},
   "outputs": [],
   "source": [
    "#print(classification_report(y_test, Y_pred))"
   ]
  },
  {
   "cell_type": "markdown",
   "id": "42ddb1b9",
   "metadata": {},
   "source": [
    "## Decision Tree"
   ]
  },
  {
   "cell_type": "code",
   "execution_count": 152,
   "id": "d5dd71f6",
   "metadata": {},
   "outputs": [],
   "source": [
    "from sklearn.model_selection import StratifiedKFold\n",
    "from sklearn.tree import DecisionTreeRegressor\n",
    "from sklearn.metrics import accuracy_score"
   ]
  },
  {
   "cell_type": "code",
   "execution_count": 153,
   "id": "5b34d9ac",
   "metadata": {},
   "outputs": [
    {
     "data": {
      "text/plain": [
       "DecisionTreeRegressor()"
      ]
     },
     "execution_count": 153,
     "metadata": {},
     "output_type": "execute_result"
    }
   ],
   "source": [
    "dt = DecisionTreeRegressor()\n",
    "dt.fit(X_train, np.ravel(y_train, order = 'C'))\n"
   ]
  },
  {
   "cell_type": "code",
   "execution_count": 154,
   "id": "0db14235",
   "metadata": {},
   "outputs": [
    {
     "data": {
      "text/plain": [
       "DecisionTreeRegressor()"
      ]
     },
     "execution_count": 154,
     "metadata": {},
     "output_type": "execute_result"
    }
   ],
   "source": [
    "dt.fit(X_train, y_train)\n"
   ]
  },
  {
   "cell_type": "code",
   "execution_count": 184,
   "id": "1070ac4b",
   "metadata": {},
   "outputs": [
    {
     "data": {
      "text/plain": [
       "array([0.48737745, 0.51041667, 0.59705882, 0.54227941, 0.2879902 ,\n",
       "       0.2067402 , 0.56752451, 0.51323529, 0.13051471, 0.60428922,\n",
       "       0.60379902, 0.52781863, 0.60355392, 0.67267157, 0.39767157,\n",
       "       0.34546569, 0.77904412, 0.67598039, 0.3432598 , 0.67757353,\n",
       "       0.68627451, 0.41642157, 0.63394608, 0.59840686, 0.5372549 ,\n",
       "       0.47169118, 0.38590686, 0.53161765, 0.43357843, 0.44522059,\n",
       "       0.59166667, 0.39693627, 0.54301471, 0.35220588, 0.2564951 ,\n",
       "       0.17683824, 0.49816176, 0.4129902 , 0.49534314, 0.50355392,\n",
       "       0.50894608, 0.68333333, 0.67659314, 0.43223039, 0.51053922,\n",
       "       0.52928922, 0.3754902 , 0.53958333, 0.40098039, 0.58578431,\n",
       "       0.58615196, 0.42634804, 0.24571078, 0.34117647, 0.71654412,\n",
       "       0.55772059, 0.43026961, 0.57377451, 0.35735294, 0.32218137,\n",
       "       0.57230392, 0.36176471, 0.39473039, 0.51948529, 0.57328431,\n",
       "       0.57696078, 0.41666667, 0.47745098, 0.69448529, 0.46323529,\n",
       "       0.63480392, 0.71323529, 0.40220588, 0.39129902, 0.37867647,\n",
       "       0.70502451, 0.31544118, 0.16960784, 0.60281863, 0.53933824,\n",
       "       0.50134804, 0.65294118, 0.4254902 , 0.6939951 , 0.71078431,\n",
       "       0.54191176, 0.27414216, 0.70404412, 0.3997549 , 0.31875   ,\n",
       "       0.30147059, 0.52046569, 0.14473039, 0.76997549, 0.41164216,\n",
       "       0.47879902, 0.38137255, 0.26715686, 0.32659314, 0.53370098,\n",
       "       0.63112745, 0.61102941, 0.49583333, 0.32156863, 0.77585784,\n",
       "       0.61875   , 0.65514706, 0.34889706, 0.35208333, 0.17720588,\n",
       "       0.51397059, 0.71801471, 0.41311275, 0.33688725, 0.74080882,\n",
       "       0.55784314, 0.74178922, 0.61286765, 0.26286765, 0.39840686,\n",
       "       0.38529412, 0.74669118, 0.30416667, 0.37965686, 0.37585784,\n",
       "       0.625     , 0.18026961, 0.50735294, 0.30870098, 0.24583333,\n",
       "       0.65134804, 0.76593137, 0.74473039, 0.57598039, 0.56813725,\n",
       "       0.39093137, 0.49901961, 0.59595588, 0.41764706, 0.65490196,\n",
       "       0.53308824, 0.59387255, 0.52316176, 0.45796569, 0.33235294,\n",
       "       0.45747549, 0.30171569, 0.65416667, 0.51164216, 0.66151961,\n",
       "       0.70686275, 0.35220588, 0.76654412, 0.28480392, 0.72659314,\n",
       "       0.45122549, 0.2939951 , 0.32034314, 0.34129902, 0.36973039,\n",
       "       0.23909314, 0.58284314, 0.59191176, 0.51188725, 0.50784314,\n",
       "       0.71311275, 0.46066176, 0.60245098, 0.6375    , 0.34411765,\n",
       "       0.59448529, 0.76642157, 0.41237745, 0.48921569, 0.72058824,\n",
       "       0.55098039, 0.36740196, 0.37230392, 0.2620098 , 0.61507353,\n",
       "       0.37034314, 0.58762255, 0.65612745, 0.41151961, 0.48345588,\n",
       "       0.25257353, 0.62512255, 0.51102941, 0.23125   , 0.27818627,\n",
       "       0.4629902 , 0.37352941, 0.31139706, 0.58590686, 0.12720588,\n",
       "       0.59203431, 0.29264706, 0.69828431, 0.63443627, 0.57769608,\n",
       "       0.56139706, 0.45085784, 0.58811275, 0.39791667, 0.31323529,\n",
       "       0.18039216, 0.41384804, 0.40686275, 0.41997549, 0.3122549 ,\n",
       "       0.43198529, 0.24656863, 0.35392157, 0.5870098 , 0.63014706,\n",
       "       0.46066176, 0.72463235, 0.65159314, 0.64044118, 0.25318627,\n",
       "       0.58468137, 0.50943627, 0.27193627, 0.31433824, 0.71605392,\n",
       "       0.65894608, 0.32671569, 0.33786765, 0.24632353, 0.29093137,\n",
       "       0.41605392, 0.37867647, 0.53762255, 0.72107843, 0.43492647,\n",
       "       0.74215686, 0.72426471, 0.52512255, 0.42071078, 0.57965686,\n",
       "       0.38406863, 0.45870098, 0.68676471, 0.3810049 , 0.37340686,\n",
       "       0.37426471, 0.2372549 , 0.39485294, 0.41789216, 0.67904412,\n",
       "       0.50857843, 0.66752451, 0.49632353, 0.7875    , 0.32414216,\n",
       "       0.58529412, 0.44791667, 0.30551471, 0.70232843, 0.40294118,\n",
       "       0.77757353, 0.45073529, 0.53676471, 0.6375    , 0.62757353,\n",
       "       0.58370098, 0.36617647, 0.46678922, 0.70661765, 0.64779412,\n",
       "       0.53884804, 0.50919118, 0.76973039, 0.55759804, 0.61360294,\n",
       "       0.44338235, 0.4692402 , 0.47634804, 0.40343137, 0.37928922,\n",
       "       0.52230392, 0.65379902, 0.38370098, 0.29142157, 0.23063725,\n",
       "       0.3504902 , 0.33504902, 0.14460784, 0.56519608, 0.28958333,\n",
       "       0.67757353, 0.35196078, 0.32487745, 0.61580882, 0.54056373,\n",
       "       0.44191176, 0.74460784, 0.60612745, 0.41433824, 0.35821078,\n",
       "       0.75514706, 0.66017157, 0.48909314, 0.74276961, 0.29007353,\n",
       "       0.22365196, 0.21776961, 0.33639706, 0.51666667, 0.34203431,\n",
       "       0.50379902, 0.40490196, 0.36556373, 0.40686275, 0.47843137,\n",
       "       0.69362745, 0.52303922, 0.67928922, 0.20036765, 0.32671569,\n",
       "       0.47463235, 0.45539216, 0.51715686, 0.61237745, 0.5247549 ,\n",
       "       0.44571078, 0.42941176, 0.25870098, 0.44681373, 0.34718137,\n",
       "       0.58394608, 0.4067402 , 0.55661765, 0.13848039, 0.65894608,\n",
       "       0.58578431, 0.39448529, 0.14620098, 0.46997549, 0.28039216,\n",
       "       0.72892157, 0.4935049 , 0.32303922, 0.63063725, 0.43014706,\n",
       "       0.73063725, 0.45404412, 0.55245098, 0.17365196, 0.63933824,\n",
       "       0.38602941, 0.63553922, 0.56213235, 0.36041667, 0.34546569,\n",
       "       0.30661765, 0.58112745, 0.46360294, 0.55882353, 0.50845588,\n",
       "       0.30637255, 0.54865196, 0.41727941, 0.37034314, 0.42720588,\n",
       "       0.42218137, 0.61017157, 0.75857843, 0.3504902 , 0.19632353,\n",
       "       0.43321078, 0.60931373, 0.55723039, 0.18308824, 0.30355392,\n",
       "       0.19215686, 0.54203431, 0.58884804, 0.73026961, 0.52941176,\n",
       "       0.69816176, 0.5567402 , 0.32242647, 0.6997549 , 0.59485294,\n",
       "       0.70870098, 0.58848039, 0.61348039, 0.46801471, 0.61997549,\n",
       "       0.71078431, 0.3377451 , 0.44877451, 0.37806373, 0.53517157,\n",
       "       0.67745098, 0.41433824, 0.25686275, 0.5120098 , 0.46017157,\n",
       "       0.30502451, 0.57928922, 0.29926471, 0.33921569, 0.52916667,\n",
       "       0.45073529, 0.34558824, 0.49436275, 0.74595588, 0.66875   ,\n",
       "       0.55355392, 0.41936275, 0.59215686, 0.53737745, 0.62279412,\n",
       "       0.45539216, 0.31323529, 0.49031863, 0.65453431, 0.6       ,\n",
       "       0.7002451 , 0.53884804, 0.67267157, 0.28921569, 0.40134804,\n",
       "       0.61139706, 0.31188725, 0.51519608, 0.41715686, 0.26629902,\n",
       "       0.23308824, 0.65232843, 0.47254902, 0.69534314, 0.33247549])"
      ]
     },
     "execution_count": 184,
     "metadata": {},
     "output_type": "execute_result"
    }
   ],
   "source": [
    "Y_pred = regressor.predict(X_test)  \n",
    "Y_pred"
   ]
  },
  {
   "cell_type": "markdown",
   "id": "21c9887a",
   "metadata": {},
   "source": [
    "#### Mean Squared Error for Decision Tree"
   ]
  },
  {
   "cell_type": "code",
   "execution_count": 156,
   "id": "2b244013",
   "metadata": {},
   "outputs": [
    {
     "name": "stdout",
     "output_type": "stream",
     "text": [
      "Error for Random Forest is : 0.03791190839785317\n"
     ]
    }
   ],
   "source": [
    "print('Error for Random Forest is :' , mean_squared_error(y_test, Y_pred))"
   ]
  },
  {
   "cell_type": "code",
   "execution_count": 160,
   "id": "cf2a721d",
   "metadata": {},
   "outputs": [],
   "source": [
    "#print(classification_report(y_test, Y_pred))\n",
    "# accuracy_score(y_test, Y_pred, normalize=False)"
   ]
  },
  {
   "cell_type": "markdown",
   "id": "b1210f58",
   "metadata": {},
   "source": [
    "## Epsilon-Support Vector Regression"
   ]
  },
  {
   "cell_type": "code",
   "execution_count": 173,
   "id": "a4d4e303",
   "metadata": {},
   "outputs": [],
   "source": [
    "from sklearn import svm\n",
    "from sklearn.svm import SVR\n",
    "from sklearn.pipeline import make_pipeline\n",
    "from sklearn.preprocessing import StandardScaler"
   ]
  },
  {
   "cell_type": "code",
   "execution_count": 181,
   "id": "0df6c14c",
   "metadata": {},
   "outputs": [
    {
     "data": {
      "text/plain": [
       "Pipeline(steps=[('standardscaler', StandardScaler()),\n",
       "                ('svr', SVR(epsilon=0.2))])"
      ]
     },
     "execution_count": 181,
     "metadata": {},
     "output_type": "execute_result"
    }
   ],
   "source": [
    "svr = make_pipeline(StandardScaler(), SVR(C=1.0, epsilon=0.2))\n",
    "svr.fit(X_train, y_train)"
   ]
  },
  {
   "cell_type": "code",
   "execution_count": 182,
   "id": "5936d7f8",
   "metadata": {},
   "outputs": [
    {
     "data": {
      "text/plain": [
       "array([0.5531335 , 0.57105382, 0.67833849, 0.42410895, 0.29560283,\n",
       "       0.25912635, 0.49151695, 0.44477011, 0.24262289, 0.54305137,\n",
       "       0.65941466, 0.487716  , 0.61503582, 0.59144989, 0.57250044,\n",
       "       0.12793863, 0.67088329, 0.59579277, 0.32011973, 0.65878424,\n",
       "       0.66968731, 0.57314816, 0.45142864, 0.574984  , 0.46682103,\n",
       "       0.5523659 , 0.48873334, 0.47626163, 0.42582691, 0.42746152,\n",
       "       0.70862091, 0.37923097, 0.55001628, 0.36166038, 0.21677175,\n",
       "       0.1487038 , 0.54116894, 0.40167861, 0.45958599, 0.63469144,\n",
       "       0.55704224, 0.6639957 , 0.65968335, 0.34153531, 0.55456012,\n",
       "       0.43270259, 0.51861907, 0.30810694, 0.40360868, 0.44947914,\n",
       "       0.77218758, 0.6144874 , 0.27269142, 0.27270015, 0.7088238 ,\n",
       "       0.60075677, 0.36385851, 0.5520563 , 0.35960894, 0.35221772,\n",
       "       0.45687648, 0.44363903, 0.4406242 , 0.52028506, 0.45793097,\n",
       "       0.49156713, 0.41327215, 0.48960711, 0.50974715, 0.47673168,\n",
       "       0.66964417, 0.60624501, 0.44627561, 0.40914007, 0.34281235,\n",
       "       0.7452254 , 0.361288  , 0.26382861, 0.46334126, 0.60557964,\n",
       "       0.54031959, 0.73884565, 0.40429692, 0.62474513, 0.80492471,\n",
       "       0.33161027, 0.26893689, 0.64003882, 0.25443322, 0.43575514,\n",
       "       0.27557288, 0.46928073, 0.11460394, 0.6655358 , 0.52419026,\n",
       "       0.47318953, 0.18827797, 0.37089471, 0.39526888, 0.53533872,\n",
       "       0.63936585, 0.79831168, 0.39384101, 0.22940213, 0.66612957,\n",
       "       0.50296513, 0.67891682, 0.27494879, 0.33236142, 0.20691308,\n",
       "       0.57493246, 0.70621616, 0.48539762, 0.26528429, 0.67445805,\n",
       "       0.4703699 , 0.70911428, 0.51920413, 0.35534731, 0.40943636,\n",
       "       0.41698716, 0.64678265, 0.34387041, 0.38938282, 0.3630558 ,\n",
       "       0.4776033 , 0.14355826, 0.4785374 , 0.43485004, 0.29865344,\n",
       "       0.56278341, 0.65592744, 0.73023141, 0.61166762, 0.62548978,\n",
       "       0.52572656, 0.44245581, 0.68223415, 0.40220266, 0.57076378,\n",
       "       0.50541619, 0.4767542 , 0.4513524 , 0.39669783, 0.54885393,\n",
       "       0.59015848, 0.34522358, 0.5733239 , 0.50054019, 0.60178084,\n",
       "       0.58622258, 0.46054145, 0.61356103, 0.33044162, 0.66082487,\n",
       "       0.3485147 , 0.30979749, 0.26519627, 0.57663924, 0.47221957,\n",
       "       0.24894775, 0.56177734, 0.54690471, 0.57100848, 0.44194904,\n",
       "       0.61851797, 0.43678892, 0.50773922, 0.54766527, 0.41544317,\n",
       "       0.60942176, 0.67932752, 0.50126445, 0.42978609, 0.66603931,\n",
       "       0.64245274, 0.30789788, 0.51050306, 0.20644424, 0.65368192,\n",
       "       0.32935983, 0.62890763, 0.45161135, 0.33562478, 0.60659245,\n",
       "       0.26311495, 0.61846846, 0.43707079, 0.27027765, 0.34005305,\n",
       "       0.54071196, 0.31868656, 0.39977269, 0.53348816, 0.28168262,\n",
       "       0.48263733, 0.23899394, 0.63340708, 0.69412859, 0.56096103,\n",
       "       0.63784482, 0.42247885, 0.60495594, 0.32040224, 0.44350542,\n",
       "       0.26768854, 0.48361167, 0.47550037, 0.43036384, 0.32936155,\n",
       "       0.48058492, 0.31067339, 0.40346289, 0.66048055, 0.5945281 ,\n",
       "       0.44768288, 0.61662261, 0.51974955, 0.57978315, 0.32901649,\n",
       "       0.39778585, 0.43920731, 0.24395386, 0.36256557, 0.58833633,\n",
       "       0.55823327, 0.29581687, 0.42055725, 0.30426743, 0.29659041,\n",
       "       0.41571984, 0.36825657, 0.63194591, 0.71681151, 0.34738342,\n",
       "       0.83071188, 0.63655378, 0.57818157, 0.39547361, 0.45920075,\n",
       "       0.43109179, 0.45615999, 0.58186996, 0.60900524, 0.42024824,\n",
       "       0.34452425, 0.37706712, 0.42673692, 0.40470489, 0.66724181,\n",
       "       0.53386561, 0.51960522, 0.45739467, 0.70340515, 0.39778566,\n",
       "       0.61787761, 0.31959013, 0.23388238, 0.59359568, 0.34514644,\n",
       "       0.73599967, 0.50248245, 0.57738114, 0.60817643, 0.46872445,\n",
       "       0.57289586, 0.4012738 , 0.49039298, 0.65615417, 0.69439447,\n",
       "       0.56807159, 0.50159318, 0.67839313, 0.54125544, 0.57142303,\n",
       "       0.45378172, 0.3883759 , 0.46638588, 0.32413918, 0.30040258,\n",
       "       0.32355858, 0.59794809, 0.48041823, 0.24501464, 0.21825366,\n",
       "       0.34013764, 0.26472499, 0.18157737, 0.60555854, 0.37750951,\n",
       "       0.54115494, 0.48541355, 0.30694327, 0.56983498, 0.46503935,\n",
       "       0.41699572, 0.55793846, 0.60736271, 0.48565449, 0.41649798,\n",
       "       0.69658136, 0.46264483, 0.39743648, 0.73952932, 0.28810956,\n",
       "       0.25150681, 0.27068016, 0.36848457, 0.44759214, 0.29300197,\n",
       "       0.65884867, 0.56658396, 0.43629148, 0.42295385, 0.34353348,\n",
       "       0.61887841, 0.43281522, 0.68991389, 0.3116834 , 0.3382566 ,\n",
       "       0.54379057, 0.42756538, 0.63369014, 0.57480857, 0.52608986,\n",
       "       0.37488247, 0.34171744, 0.27074611, 0.45049084, 0.43045027,\n",
       "       0.61680956, 0.40094525, 0.58400058, 0.21577012, 0.65015368,\n",
       "       0.47728573, 0.49356299, 0.28663238, 0.33926769, 0.2890211 ,\n",
       "       0.6663995 , 0.45762662, 0.07264039, 0.608109  , 0.37821814,\n",
       "       0.55727518, 0.38364044, 0.42332646, 0.16446435, 0.63522892,\n",
       "       0.38049231, 0.67796073, 0.5089885 , 0.52663241, 0.40229427,\n",
       "       0.34720996, 0.50837134, 0.51304504, 0.49096012, 0.31844731,\n",
       "       0.34816804, 0.44010391, 0.45656423, 0.10553887, 0.39341911,\n",
       "       0.41345248, 0.4676832 , 0.72340652, 0.29619428, 0.23650095,\n",
       "       0.35883051, 0.62430826, 0.46018658, 0.15266408, 0.22837128,\n",
       "       0.16778744, 0.51797502, 0.53797401, 0.7040324 , 0.5438078 ,\n",
       "       0.6203248 , 0.49976579, 0.33816145, 0.49128811, 0.65296593,\n",
       "       0.67560196, 0.61362336, 0.62287969, 0.43754071, 0.54939547,\n",
       "       0.66589213, 0.34466781, 0.4562955 , 0.27513829, 0.51540074,\n",
       "       0.55419125, 0.41994548, 0.22097284, 0.50557555, 0.49656593,\n",
       "       0.2978432 , 0.63313846, 0.37822122, 0.31633424, 0.50183032,\n",
       "       0.39685444, 0.30794092, 0.35071163, 0.70740742, 0.72537638,\n",
       "       0.47330634, 0.27442064, 0.63004589, 0.49894937, 0.60135548,\n",
       "       0.43192702, 0.40568437, 0.48389578, 0.68385587, 0.63901057,\n",
       "       0.72103934, 0.51230402, 0.5311572 , 0.37318231, 0.47587765,\n",
       "       0.63509394, 0.35398563, 0.4945771 , 0.36564732, 0.26713727,\n",
       "       0.3410873 , 0.61293299, 0.45250906, 0.65490602, 0.27582397])"
      ]
     },
     "execution_count": 182,
     "metadata": {},
     "output_type": "execute_result"
    }
   ],
   "source": [
    "Y_pred = svr.predict(X_test)  \n",
    "Y_pred"
   ]
  },
  {
   "cell_type": "markdown",
   "id": "fff0d4d2",
   "metadata": {},
   "source": [
    "#### Mean Squared Error for Epsilon-Support Vector Regression "
   ]
  },
  {
   "cell_type": "code",
   "execution_count": 183,
   "id": "35572395",
   "metadata": {},
   "outputs": [
    {
     "name": "stdout",
     "output_type": "stream",
     "text": [
      "Error for Random Forest is : 0.03983761340794757\n"
     ]
    }
   ],
   "source": [
    "print('Error for Random Forest is :' , mean_squared_error(y_test, Y_pred))"
   ]
  },
  {
   "cell_type": "code",
   "execution_count": null,
   "id": "199152ea",
   "metadata": {},
   "outputs": [],
   "source": []
  }
 ],
 "metadata": {
  "kernelspec": {
   "display_name": "Python 3 (ipykernel)",
   "language": "python",
   "name": "python3"
  },
  "language_info": {
   "codemirror_mode": {
    "name": "ipython",
    "version": 3
   },
   "file_extension": ".py",
   "mimetype": "text/x-python",
   "name": "python",
   "nbconvert_exporter": "python",
   "pygments_lexer": "ipython3",
   "version": "3.9.7"
  }
 },
 "nbformat": 4,
 "nbformat_minor": 5
}
